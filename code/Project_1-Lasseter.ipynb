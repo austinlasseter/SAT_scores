{
 "cells": [
  {
   "cell_type": "markdown",
   "metadata": {},
   "source": [
    "# Project 1"
   ]
  },
  {
   "cell_type": "markdown",
   "metadata": {},
   "source": [
    "## Step 1: Load the data and perform basic operations."
   ]
  },
  {
   "cell_type": "markdown",
   "metadata": {},
   "source": [
    "##### 1. Load the data in using pandas."
   ]
  },
  {
   "cell_type": "code",
   "execution_count": 1,
   "metadata": {
    "collapsed": true
   },
   "outputs": [],
   "source": [
    "import pandas as pd\n",
    "import numpy as np"
   ]
  },
  {
   "cell_type": "code",
   "execution_count": 2,
   "metadata": {},
   "outputs": [
    {
     "data": {
      "text/html": [
       "<div>\n",
       "<style>\n",
       "    .dataframe thead tr:only-child th {\n",
       "        text-align: right;\n",
       "    }\n",
       "\n",
       "    .dataframe thead th {\n",
       "        text-align: left;\n",
       "    }\n",
       "\n",
       "    .dataframe tbody tr th {\n",
       "        vertical-align: top;\n",
       "    }\n",
       "</style>\n",
       "<table border=\"1\" class=\"dataframe\">\n",
       "  <thead>\n",
       "    <tr style=\"text-align: right;\">\n",
       "      <th></th>\n",
       "      <th>Unnamed: 0</th>\n",
       "      <th>State</th>\n",
       "      <th>Participation</th>\n",
       "      <th>English</th>\n",
       "      <th>Math</th>\n",
       "      <th>Reading</th>\n",
       "      <th>Science</th>\n",
       "      <th>Composite</th>\n",
       "    </tr>\n",
       "  </thead>\n",
       "  <tbody>\n",
       "    <tr>\n",
       "      <th>0</th>\n",
       "      <td>0</td>\n",
       "      <td>National</td>\n",
       "      <td>60%</td>\n",
       "      <td>20.3</td>\n",
       "      <td>20.7</td>\n",
       "      <td>21.4</td>\n",
       "      <td>21.0</td>\n",
       "      <td>21.0</td>\n",
       "    </tr>\n",
       "    <tr>\n",
       "      <th>1</th>\n",
       "      <td>1</td>\n",
       "      <td>Alabama</td>\n",
       "      <td>100%</td>\n",
       "      <td>18.9</td>\n",
       "      <td>18.4</td>\n",
       "      <td>19.7</td>\n",
       "      <td>19.4</td>\n",
       "      <td>19.2</td>\n",
       "    </tr>\n",
       "    <tr>\n",
       "      <th>2</th>\n",
       "      <td>2</td>\n",
       "      <td>Alaska</td>\n",
       "      <td>65%</td>\n",
       "      <td>18.7</td>\n",
       "      <td>19.8</td>\n",
       "      <td>20.4</td>\n",
       "      <td>19.9</td>\n",
       "      <td>19.8</td>\n",
       "    </tr>\n",
       "  </tbody>\n",
       "</table>\n",
       "</div>"
      ],
      "text/plain": [
       "   Unnamed: 0     State Participation  English  Math  Reading  Science  \\\n",
       "0           0  National           60%     20.3  20.7     21.4     21.0   \n",
       "1           1   Alabama          100%     18.9  18.4     19.7     19.4   \n",
       "2           2    Alaska           65%     18.7  19.8     20.4     19.9   \n",
       "\n",
       "   Composite  \n",
       "0       21.0  \n",
       "1       19.2  \n",
       "2       19.8  "
      ]
     },
     "execution_count": 2,
     "metadata": {},
     "output_type": "execute_result"
    }
   ],
   "source": [
    "df_act=pd.read_csv('../data/act.csv')\n",
    "df_act.head(3)"
   ]
  },
  {
   "cell_type": "code",
   "execution_count": 3,
   "metadata": {},
   "outputs": [
    {
     "data": {
      "text/plain": [
       "<bound method NDFrame.head of     Unnamed: 0                 State Participation  \\\n",
       "0            0               Alabama            5%   \n",
       "1            1                Alaska           38%   \n",
       "2            2               Arizona           30%   \n",
       "3            3              Arkansas            3%   \n",
       "4            4            California           53%   \n",
       "5            5              Colorado           11%   \n",
       "6            6           Connecticut          100%   \n",
       "7            7              Delaware          100%   \n",
       "8            8  District of Columbia          100%   \n",
       "9            9               Florida           83%   \n",
       "10          10               Georgia           61%   \n",
       "11          11                Hawaii           55%   \n",
       "12          12                 Idaho           93%   \n",
       "13          13              Illinois            9%   \n",
       "14          14               Indiana           63%   \n",
       "15          15                  Iowa            2%   \n",
       "16          16                Kansas            4%   \n",
       "17          17              Kentucky            4%   \n",
       "18          18             Louisiana            4%   \n",
       "19          19                 Maine           95%   \n",
       "20          20              Maryland           69%   \n",
       "21          21         Massachusetts           76%   \n",
       "22          22              Michigan          100%   \n",
       "23          23             Minnesota            3%   \n",
       "24          24           Mississippi            2%   \n",
       "25          25              Missouri            3%   \n",
       "26          26               Montana           10%   \n",
       "27          27              Nebraska            3%   \n",
       "28          28                Nevada           26%   \n",
       "29          29         New Hampshire           96%   \n",
       "30          30            New Jersey           70%   \n",
       "31          31            New Mexico           11%   \n",
       "32          32              New York           67%   \n",
       "33          33        North Carolina           49%   \n",
       "34          34          North Dakota            2%   \n",
       "35          35                  Ohio           12%   \n",
       "36          36              Oklahoma            7%   \n",
       "37          37                Oregon           43%   \n",
       "38          38          Pennsylvania           65%   \n",
       "39          39          Rhode Island           71%   \n",
       "40          40        South Carolina           50%   \n",
       "41          41          South Dakota            3%   \n",
       "42          42             Tennessee            5%   \n",
       "43          43                 Texas           62%   \n",
       "44          44                  Utah            3%   \n",
       "45          45               Vermont           60%   \n",
       "46          46              Virginia           65%   \n",
       "47          47            Washington           64%   \n",
       "48          48         West Virginia           14%   \n",
       "49          49             Wisconsin            3%   \n",
       "50          50               Wyoming            3%   \n",
       "\n",
       "    Evidence-Based Reading and Writing  Math  Total  \n",
       "0                                  593   572   1165  \n",
       "1                                  547   533   1080  \n",
       "2                                  563   553   1116  \n",
       "3                                  614   594   1208  \n",
       "4                                  531   524   1055  \n",
       "5                                  606   595   1201  \n",
       "6                                  530   512   1041  \n",
       "7                                  503   492    996  \n",
       "8                                  482   468    950  \n",
       "9                                  520   497   1017  \n",
       "10                                 535   515   1050  \n",
       "11                                 544   541   1085  \n",
       "12                                 513   493   1005  \n",
       "13                                 559   556   1115  \n",
       "14                                 542   532   1074  \n",
       "15                                 641   635   1275  \n",
       "16                                 632   628   1260  \n",
       "17                                 631   616   1247  \n",
       "18                                 611   586   1198  \n",
       "19                                 513   499   1012  \n",
       "20                                 536    52   1060  \n",
       "21                                 555   551   1107  \n",
       "22                                 509   495   1005  \n",
       "23                                 644   651   1295  \n",
       "24                                 634   607   1242  \n",
       "25                                 640   631   1271  \n",
       "26                                 605   591   1196  \n",
       "27                                 629   625   1253  \n",
       "28                                 563   553   1116  \n",
       "29                                 532   520   1052  \n",
       "30                                 530   526   1056  \n",
       "31                                 577   561   1138  \n",
       "32                                 528   523   1052  \n",
       "33                                 546   535   1081  \n",
       "34                                 635   621   1256  \n",
       "35                                 578   570   1149  \n",
       "36                                 530   517   1047  \n",
       "37                                 560   548   1108  \n",
       "38                                 540   531   1071  \n",
       "39                                 539   524   1062  \n",
       "40                                 543   521   1064  \n",
       "41                                 612   603   1216  \n",
       "42                                 623   604   1228  \n",
       "43                                 513   507   1020  \n",
       "44                                 624   614   1238  \n",
       "45                                 562   551   1114  \n",
       "46                                 561   541   1102  \n",
       "47                                 541   534   1075  \n",
       "48                                 558   528   1086  \n",
       "49                                 642   649   1291  \n",
       "50                                 626   604   1230  >"
      ]
     },
     "execution_count": 3,
     "metadata": {},
     "output_type": "execute_result"
    }
   ],
   "source": [
    "df_sat=pd.read_csv('../data/sat.csv')\n",
    "df_sat.head"
   ]
  },
  {
   "cell_type": "code",
   "execution_count": 4,
   "metadata": {},
   "outputs": [
    {
     "data": {
      "text/plain": [
       "52"
      ]
     },
     "execution_count": 4,
     "metadata": {},
     "output_type": "execute_result"
    }
   ],
   "source": [
    "# You know what's weird? Maryland' score is reading in as '52' when it's supposed to be '524'\n",
    "df_sat.Math.loc[20]\n"
   ]
  },
  {
   "cell_type": "code",
   "execution_count": 5,
   "metadata": {},
   "outputs": [
    {
     "data": {
      "text/plain": [
       "524"
      ]
     },
     "execution_count": 5,
     "metadata": {},
     "output_type": "execute_result"
    }
   ],
   "source": [
    "# Let's fix that.\n",
    "df_sat['Math'] = df_sat['Math'].replace(52, 524)\n",
    "df_sat.Math.loc[20]"
   ]
  },
  {
   "cell_type": "markdown",
   "metadata": {},
   "source": [
    "##### 2. Print the first ten rows of each dataframe."
   ]
  },
  {
   "cell_type": "code",
   "execution_count": 6,
   "metadata": {},
   "outputs": [
    {
     "name": "stdout",
     "output_type": "stream",
     "text": [
      "   Unnamed: 0                 State Participation  English  Math  Reading  \\\n",
      "0           0              National           60%     20.3  20.7     21.4   \n",
      "1           1               Alabama          100%     18.9  18.4     19.7   \n",
      "2           2                Alaska           65%     18.7  19.8     20.4   \n",
      "3           3               Arizona           62%     18.6  19.8     20.1   \n",
      "4           4              Arkansas          100%     18.9  19.0     19.7   \n",
      "5           5            California           31%     22.5  22.7     23.1   \n",
      "6           6              Colorado          100%     20.1  20.3     21.2   \n",
      "7           7           Connecticut           31%     25.5  24.6     25.6   \n",
      "8           8              Delaware           18%     24.1  23.4     24.8   \n",
      "9           9  District of Columbia           32%     24.4  23.5     24.9   \n",
      "\n",
      "   Science  Composite  \n",
      "0     21.0       21.0  \n",
      "1     19.4       19.2  \n",
      "2     19.9       19.8  \n",
      "3     19.8       19.7  \n",
      "4     19.5       19.4  \n",
      "5     22.2       22.8  \n",
      "6     20.9       20.8  \n",
      "7     24.6       25.2  \n",
      "8     23.6       24.1  \n",
      "9     23.5       24.2  \n",
      "   Unnamed: 0                 State Participation  \\\n",
      "0           0               Alabama            5%   \n",
      "1           1                Alaska           38%   \n",
      "2           2               Arizona           30%   \n",
      "3           3              Arkansas            3%   \n",
      "4           4            California           53%   \n",
      "5           5              Colorado           11%   \n",
      "6           6           Connecticut          100%   \n",
      "7           7              Delaware          100%   \n",
      "8           8  District of Columbia          100%   \n",
      "9           9               Florida           83%   \n",
      "\n",
      "   Evidence-Based Reading and Writing  Math  Total  \n",
      "0                                 593   572   1165  \n",
      "1                                 547   533   1080  \n",
      "2                                 563   553   1116  \n",
      "3                                 614   594   1208  \n",
      "4                                 531   524   1055  \n",
      "5                                 606   595   1201  \n",
      "6                                 530   512   1041  \n",
      "7                                 503   492    996  \n",
      "8                                 482   468    950  \n",
      "9                                 520   497   1017  \n"
     ]
    }
   ],
   "source": [
    "print(df_act.head(10))\n",
    "print(df_sat.head(10))"
   ]
  },
  {
   "cell_type": "markdown",
   "metadata": {},
   "source": [
    "##### 3. Describe in words what each variable (column) is."
   ]
  },
  {
   "cell_type": "code",
   "execution_count": 7,
   "metadata": {},
   "outputs": [
    {
     "name": "stdout",
     "output_type": "stream",
     "text": [
      "Index(['Unnamed: 0', 'State', 'Participation', 'English', 'Math', 'Reading',\n",
      "       'Science', 'Composite'],\n",
      "      dtype='object')\n"
     ]
    }
   ],
   "source": [
    "print(df_act.columns)"
   ]
  },
  {
   "cell_type": "markdown",
   "metadata": {},
   "source": [
    "### ACT: \n",
    "* State: d'oh.\n",
    "* Participation: Percentage of eligible students in the state who took the assessment\n",
    "* English: Average Score of all students in that state on the English assessment\n",
    "* Math: Average Score of all students in that state on the Math assessment\n",
    "* Reading: Average Score of all students in that state on the Reading assessment\n",
    "* Science: Average Score of all students in that state on the Science assessment\n",
    "* Composite: Average of four assessment scores"
   ]
  },
  {
   "cell_type": "code",
   "execution_count": 8,
   "metadata": {},
   "outputs": [
    {
     "name": "stdout",
     "output_type": "stream",
     "text": [
      "Index(['Unnamed: 0', 'State', 'Participation',\n",
      "       'Evidence-Based Reading and Writing', 'Math', 'Total'],\n",
      "      dtype='object')\n"
     ]
    }
   ],
   "source": [
    "print(df_sat.columns)"
   ]
  },
  {
   "cell_type": "markdown",
   "metadata": {},
   "source": [
    "### SAT: \n",
    "* State: d'oh.\n",
    "* Participation: Percentage of eligible students in the state who took the assessment\n",
    "* Reading and Writing: Average Score of all students in that state on the English assessment\n",
    "* Math: Average Score of all students in that state on the Math assessment\n",
    "* Total: Sum of other two scores"
   ]
  },
  {
   "cell_type": "markdown",
   "metadata": {},
   "source": [
    "##### 4. Does the data look complete? Are there any obvious issues with the observations?"
   ]
  },
  {
   "cell_type": "code",
   "execution_count": 9,
   "metadata": {},
   "outputs": [
    {
     "name": "stdout",
     "output_type": "stream",
     "text": [
      "Unnamed: 0                            0\n",
      "State                                 0\n",
      "Participation                         0\n",
      "Evidence-Based Reading and Writing    0\n",
      "Math                                  0\n",
      "Total                                 0\n",
      "dtype: int64\n",
      "Unnamed: 0                                 50\n",
      "State                                 Wyoming\n",
      "Participation                             96%\n",
      "Evidence-Based Reading and Writing        644\n",
      "Math                                      651\n",
      "Total                                    1295\n",
      "dtype: object\n"
     ]
    }
   ],
   "source": [
    "print(df_sat.isnull().sum())\n",
    "print(df_sat.max())"
   ]
  },
  {
   "cell_type": "code",
   "execution_count": 10,
   "metadata": {},
   "outputs": [
    {
     "name": "stdout",
     "output_type": "stream",
     "text": [
      "Unnamed: 0       0\n",
      "State            0\n",
      "Participation    0\n",
      "English          0\n",
      "Math             0\n",
      "Reading          0\n",
      "Science          0\n",
      "Composite        0\n",
      "dtype: int64\n",
      "98%\n"
     ]
    }
   ],
   "source": [
    "print(df_act.isnull().sum())\n",
    "print(df_act.Participation.max())\n",
    "# So the max of participation should be 100%, not 98%. This is because it's an object not int"
   ]
  },
  {
   "cell_type": "code",
   "execution_count": 11,
   "metadata": {},
   "outputs": [
    {
     "data": {
      "text/plain": [
       "3%      8\n",
       "100%    4\n",
       "2%      3\n",
       "4%      3\n",
       "5%      2\n",
       "65%     2\n",
       "11%     2\n",
       "93%     1\n",
       "10%     1\n",
       "30%     1\n",
       "53%     1\n",
       "64%     1\n",
       "71%     1\n",
       "7%      1\n",
       "12%     1\n",
       "14%     1\n",
       "83%     1\n",
       "95%     1\n",
       "69%     1\n",
       "38%     1\n",
       "50%     1\n",
       "96%     1\n",
       "62%     1\n",
       "67%     1\n",
       "76%     1\n",
       "55%     1\n",
       "9%      1\n",
       "61%     1\n",
       "26%     1\n",
       "60%     1\n",
       "63%     1\n",
       "49%     1\n",
       "70%     1\n",
       "43%     1\n",
       "Name: Participation, dtype: int64"
      ]
     },
     "execution_count": 11,
     "metadata": {},
     "output_type": "execute_result"
    }
   ],
   "source": [
    "df_sat.Participation.value_counts()"
   ]
  },
  {
   "cell_type": "markdown",
   "metadata": {},
   "source": [
    "##### 5. Print the types of each column."
   ]
  },
  {
   "cell_type": "code",
   "execution_count": 12,
   "metadata": {
    "scrolled": true
   },
   "outputs": [
    {
     "name": "stdout",
     "output_type": "stream",
     "text": [
      "Unnamed: 0         int64\n",
      "State             object\n",
      "Participation     object\n",
      "English          float64\n",
      "Math             float64\n",
      "Reading          float64\n",
      "Science          float64\n",
      "Composite        float64\n",
      "dtype: object\n",
      "Unnamed: 0                             int64\n",
      "State                                 object\n",
      "Participation                         object\n",
      "Evidence-Based Reading and Writing     int64\n",
      "Math                                   int64\n",
      "Total                                  int64\n",
      "dtype: object\n"
     ]
    }
   ],
   "source": [
    "print(df_act.dtypes)\n",
    "print(df_sat.dtypes)"
   ]
  },
  {
   "cell_type": "markdown",
   "metadata": {},
   "source": [
    "##### 6. Do any types need to be reassigned? If so, go ahead and do it."
   ]
  },
  {
   "cell_type": "code",
   "execution_count": 13,
   "metadata": {},
   "outputs": [
    {
     "name": "stdout",
     "output_type": "stream",
     "text": [
      "object\n"
     ]
    }
   ],
   "source": [
    "# Yeah, like I mentioned earlier, the participation columns need to become numeric.\n",
    "print(df_act['Participation'].dtypes)"
   ]
  },
  {
   "cell_type": "code",
   "execution_count": 14,
   "metadata": {
    "collapsed": true
   },
   "outputs": [],
   "source": [
    "# We have to remove the percent sign first\n",
    "df_act['Participate'] = df_act['Participation'].str[:-1]\n",
    "df_act.drop(['Participation'], axis=1, inplace=True)"
   ]
  },
  {
   "cell_type": "code",
   "execution_count": 15,
   "metadata": {},
   "outputs": [
    {
     "name": "stdout",
     "output_type": "stream",
     "text": [
      "int64\n"
     ]
    }
   ],
   "source": [
    "# Now we can convert the column type to numeric\n",
    "df_act['Participate']=pd.to_numeric(df_act['Participate'], errors='coerce')\n",
    "print(df_act['Participate'].dtypes)"
   ]
  },
  {
   "cell_type": "code",
   "execution_count": 16,
   "metadata": {},
   "outputs": [
    {
     "name": "stdout",
     "output_type": "stream",
     "text": [
      "int64\n"
     ]
    }
   ],
   "source": [
    "# And now let's do the same thing for SAT:\n",
    "df_sat['Participate'] = df_sat['Participation'].str[:-1]\n",
    "df_sat.drop(['Participation'], axis=1, inplace=True)\n",
    "df_sat['Participate']=pd.to_numeric(df_sat['Participate'], errors='coerce')\n",
    "print(df_sat['Participate'].dtypes)"
   ]
  },
  {
   "cell_type": "markdown",
   "metadata": {},
   "source": [
    "##### 7. Create a dictionary for each column mapping the State to its respective value for that column. (For example, you should have three SAT dictionaries.)"
   ]
  },
  {
   "cell_type": "code",
   "execution_count": 17,
   "metadata": {
    "collapsed": true
   },
   "outputs": [],
   "source": [
    "# First the ACt"
   ]
  },
  {
   "cell_type": "code",
   "execution_count": 18,
   "metadata": {},
   "outputs": [
    {
     "data": {
      "text/plain": [
       "Index(['Unnamed: 0', 'State', 'English', 'Math', 'Reading', 'Science',\n",
       "       'Composite', 'Participate'],\n",
       "      dtype='object')"
      ]
     },
     "execution_count": 18,
     "metadata": {},
     "output_type": "execute_result"
    }
   ],
   "source": [
    "df_act.columns"
   ]
  },
  {
   "cell_type": "code",
   "execution_count": 19,
   "metadata": {},
   "outputs": [
    {
     "data": {
      "text/plain": [
       "Index(['State', 'English', 'Math', 'Reading', 'Science', 'Composite',\n",
       "       'Participate'],\n",
       "      dtype='object')"
      ]
     },
     "execution_count": 19,
     "metadata": {},
     "output_type": "execute_result"
    }
   ],
   "source": [
    "# let's drop that unnamed column, it's not necessary:\n",
    "df_act.drop('Unnamed: 0', axis=1, inplace=True)\n",
    "df_act.columns"
   ]
  },
  {
   "cell_type": "code",
   "execution_count": 20,
   "metadata": {
    "collapsed": true
   },
   "outputs": [],
   "source": [
    "keys = df_act['State']\n",
    "values = df_act.English\n",
    "act_dict1 = dict(zip(keys, values))"
   ]
  },
  {
   "cell_type": "code",
   "execution_count": 21,
   "metadata": {
    "collapsed": true
   },
   "outputs": [],
   "source": [
    "keys = df_act['State']\n",
    "values = df_act.Math\n",
    "act_dict2 = dict(zip(keys, values))"
   ]
  },
  {
   "cell_type": "code",
   "execution_count": 22,
   "metadata": {
    "collapsed": true
   },
   "outputs": [],
   "source": [
    "keys = df_act['State']\n",
    "values = df_act.Participate\n",
    "act_dict0 = dict(zip(keys, values))"
   ]
  },
  {
   "cell_type": "code",
   "execution_count": 23,
   "metadata": {
    "collapsed": true
   },
   "outputs": [],
   "source": [
    "# Now the SAT"
   ]
  },
  {
   "cell_type": "code",
   "execution_count": 24,
   "metadata": {},
   "outputs": [
    {
     "data": {
      "text/plain": [
       "Index(['Unnamed: 0', 'State', 'Evidence-Based Reading and Writing', 'Math',\n",
       "       'Total', 'Participate'],\n",
       "      dtype='object')"
      ]
     },
     "execution_count": 24,
     "metadata": {},
     "output_type": "execute_result"
    }
   ],
   "source": [
    "df_sat.columns"
   ]
  },
  {
   "cell_type": "code",
   "execution_count": 25,
   "metadata": {},
   "outputs": [
    {
     "data": {
      "text/plain": [
       "Index(['State', 'Evidence-Based Reading and Writing', 'Math', 'Total',\n",
       "       'Participate'],\n",
       "      dtype='object')"
      ]
     },
     "execution_count": 25,
     "metadata": {},
     "output_type": "execute_result"
    }
   ],
   "source": [
    "# let's drop that unnamed column, it's not necessary:\n",
    "df_sat.drop('Unnamed: 0', axis=1, inplace=True)\n",
    "df_sat.columns"
   ]
  },
  {
   "cell_type": "code",
   "execution_count": 26,
   "metadata": {
    "collapsed": true,
    "scrolled": true
   },
   "outputs": [],
   "source": [
    "# Let's rename that column with the long name:\n",
    "df_sat.rename(columns = {'Evidence-Based Reading and Writing': 'English'}, inplace=True);"
   ]
  },
  {
   "cell_type": "code",
   "execution_count": 27,
   "metadata": {
    "collapsed": true
   },
   "outputs": [],
   "source": [
    "keys = df_sat['State']\n",
    "values = df_sat.English\n",
    "sat_dict1 = dict(zip(keys, values))"
   ]
  },
  {
   "cell_type": "code",
   "execution_count": 28,
   "metadata": {
    "collapsed": true
   },
   "outputs": [],
   "source": [
    "keys = df_sat['State']\n",
    "values = df_sat.Math\n",
    "sat_dict2 = dict(zip(keys, values))"
   ]
  },
  {
   "cell_type": "code",
   "execution_count": 29,
   "metadata": {
    "collapsed": true
   },
   "outputs": [],
   "source": [
    "keys = df_sat['State']\n",
    "values = df_sat.Participate\n",
    "sat_dict0 = dict(zip(keys, values))"
   ]
  },
  {
   "cell_type": "markdown",
   "metadata": {},
   "source": [
    "##### 8. Create one dictionary where each key is the column name, and each value is an iterable (a list or a Pandas Series) of all the values in that column."
   ]
  },
  {
   "cell_type": "code",
   "execution_count": 30,
   "metadata": {},
   "outputs": [
    {
     "data": {
      "text/plain": [
       "['State', 'English', 'Math', 'Reading', 'Science', 'Composite', 'Participate']"
      ]
     },
     "execution_count": 30,
     "metadata": {},
     "output_type": "execute_result"
    }
   ],
   "source": [
    "# First the ACT:\n",
    "list(df_act.columns)"
   ]
  },
  {
   "cell_type": "code",
   "execution_count": 31,
   "metadata": {},
   "outputs": [
    {
     "data": {
      "text/plain": [
       "Index(['State', 'English', 'Math', 'Participate'], dtype='object')"
      ]
     },
     "execution_count": 31,
     "metadata": {},
     "output_type": "execute_result"
    }
   ],
   "source": [
    "# You know what? Let's drop Science, Reading, and Composite, too. Nobody really cares about those.\n",
    "df_act.drop(['Reading', 'Science', 'Composite'], axis=1, inplace=True)\n",
    "df_act.columns"
   ]
  },
  {
   "cell_type": "code",
   "execution_count": 32,
   "metadata": {
    "collapsed": true
   },
   "outputs": [],
   "source": [
    "# and make the dictionary:\n",
    "keys = list(df_act.columns)\n",
    "values = []\n",
    "values.append([df_act['State']])\n",
    "values.append([df_act['English']])\n",
    "values.append([df_act['Math']])\n",
    "values.append([df_act['Participate']])\n",
    "act_dict = dict(zip(keys, values))"
   ]
  },
  {
   "cell_type": "code",
   "execution_count": 33,
   "metadata": {
    "scrolled": true
   },
   "outputs": [
    {
     "data": {
      "text/plain": [
       "{'English': [0     20.3\n",
       "  1     18.9\n",
       "  2     18.7\n",
       "  3     18.6\n",
       "  4     18.9\n",
       "  5     22.5\n",
       "  6     20.1\n",
       "  7     25.5\n",
       "  8     24.1\n",
       "  9     24.4\n",
       "  10    19.0\n",
       "  11    21.0\n",
       "  12    17.8\n",
       "  13    21.9\n",
       "  14    21.0\n",
       "  15    22.0\n",
       "  16    21.2\n",
       "  17    21.1\n",
       "  18    19.6\n",
       "  19    19.4\n",
       "  20    24.2\n",
       "  21    23.3\n",
       "  22    25.4\n",
       "  23    24.1\n",
       "  24    20.4\n",
       "  25    18.2\n",
       "  26    19.8\n",
       "  27    19.0\n",
       "  28    20.9\n",
       "  29    16.3\n",
       "  30    25.4\n",
       "  31    23.8\n",
       "  32    18.6\n",
       "  33    23.8\n",
       "  34    17.8\n",
       "  35    19.0\n",
       "  36    21.2\n",
       "  37    18.5\n",
       "  38    21.2\n",
       "  39    23.4\n",
       "  40    24.0\n",
       "  41    17.5\n",
       "  42    20.7\n",
       "  43    19.5\n",
       "  44    19.5\n",
       "  45    19.5\n",
       "  46    23.3\n",
       "  47    23.5\n",
       "  48    20.9\n",
       "  49    20.0\n",
       "  50    19.7\n",
       "  51    19.4\n",
       "  Name: English, dtype: float64], 'Math': [0     20.7\n",
       "  1     18.4\n",
       "  2     19.8\n",
       "  3     19.8\n",
       "  4     19.0\n",
       "  5     22.7\n",
       "  6     20.3\n",
       "  7     24.6\n",
       "  8     23.4\n",
       "  9     23.5\n",
       "  10    19.4\n",
       "  11    20.9\n",
       "  12    19.2\n",
       "  13    21.8\n",
       "  14    21.2\n",
       "  15    22.4\n",
       "  16    21.3\n",
       "  17    21.3\n",
       "  18    19.4\n",
       "  19    18.8\n",
       "  20    24.0\n",
       "  21    23.1\n",
       "  22    25.3\n",
       "  23    23.7\n",
       "  24    21.5\n",
       "  25    18.1\n",
       "  26    19.9\n",
       "  27    20.2\n",
       "  28    20.9\n",
       "  29    18.0\n",
       "  30    25.1\n",
       "  31    23.8\n",
       "  32    19.4\n",
       "  33    24.0\n",
       "  34    19.3\n",
       "  35    20.4\n",
       "  36    21.6\n",
       "  37    18.8\n",
       "  38    21.5\n",
       "  39    23.4\n",
       "  40    23.3\n",
       "  41    18.6\n",
       "  42    21.5\n",
       "  43    19.2\n",
       "  44    20.7\n",
       "  45    19.9\n",
       "  46    23.1\n",
       "  47    23.3\n",
       "  48    21.9\n",
       "  49    19.4\n",
       "  50    20.4\n",
       "  51    19.8\n",
       "  Name: Math, dtype: float64], 'Participate': [0      60\n",
       "  1     100\n",
       "  2      65\n",
       "  3      62\n",
       "  4     100\n",
       "  5      31\n",
       "  6     100\n",
       "  7      31\n",
       "  8      18\n",
       "  9      32\n",
       "  10     73\n",
       "  11     55\n",
       "  12     90\n",
       "  13     38\n",
       "  14     93\n",
       "  15     35\n",
       "  16     67\n",
       "  17     73\n",
       "  18    100\n",
       "  19    100\n",
       "  20      8\n",
       "  21     28\n",
       "  22     29\n",
       "  23     29\n",
       "  24    100\n",
       "  25    100\n",
       "  26    100\n",
       "  27    100\n",
       "  28     84\n",
       "  29    100\n",
       "  30     18\n",
       "  31     34\n",
       "  32     66\n",
       "  33     31\n",
       "  34    100\n",
       "  35     98\n",
       "  36     75\n",
       "  37    100\n",
       "  38     40\n",
       "  39     23\n",
       "  40     21\n",
       "  41    100\n",
       "  42     80\n",
       "  43    100\n",
       "  44     45\n",
       "  45    100\n",
       "  46     29\n",
       "  47     29\n",
       "  48     29\n",
       "  49     69\n",
       "  50    100\n",
       "  51    100\n",
       "  Name: Participate, dtype: int64], 'State': [0                 National\n",
       "  1                  Alabama\n",
       "  2                   Alaska\n",
       "  3                  Arizona\n",
       "  4                 Arkansas\n",
       "  5               California\n",
       "  6                 Colorado\n",
       "  7              Connecticut\n",
       "  8                 Delaware\n",
       "  9     District of Columbia\n",
       "  10                 Florida\n",
       "  11                 Georgia\n",
       "  12                  Hawaii\n",
       "  13                   Idaho\n",
       "  14                Illinois\n",
       "  15                 Indiana\n",
       "  16                    Iowa\n",
       "  17                  Kansas\n",
       "  18                Kentucky\n",
       "  19               Louisiana\n",
       "  20                   Maine\n",
       "  21                Maryland\n",
       "  22           Massachusetts\n",
       "  23                Michigan\n",
       "  24               Minnesota\n",
       "  25             Mississippi\n",
       "  26                Missouri\n",
       "  27                 Montana\n",
       "  28                Nebraska\n",
       "  29                  Nevada\n",
       "  30           New Hampshire\n",
       "  31              New Jersey\n",
       "  32              New Mexico\n",
       "  33                New York\n",
       "  34          North Carolina\n",
       "  35            North Dakota\n",
       "  36                    Ohio\n",
       "  37                Oklahoma\n",
       "  38                  Oregon\n",
       "  39            Pennsylvania\n",
       "  40            Rhode Island\n",
       "  41          South Carolina\n",
       "  42            South Dakota\n",
       "  43               Tennessee\n",
       "  44                   Texas\n",
       "  45                    Utah\n",
       "  46                 Vermont\n",
       "  47                Virginia\n",
       "  48              Washington\n",
       "  49           West Virginia\n",
       "  50               Wisconsin\n",
       "  51                 Wyoming\n",
       "  Name: State, dtype: object]}"
      ]
     },
     "execution_count": 33,
     "metadata": {},
     "output_type": "execute_result"
    }
   ],
   "source": [
    "# How's it look? Pretty damn good, if I do say so myself.\n",
    "act_dict"
   ]
  },
  {
   "cell_type": "code",
   "execution_count": 34,
   "metadata": {},
   "outputs": [
    {
     "data": {
      "text/plain": [
       "['State', 'English', 'Math', 'Total', 'Participate']"
      ]
     },
     "execution_count": 34,
     "metadata": {},
     "output_type": "execute_result"
    }
   ],
   "source": [
    "# Now the SAT:\n",
    "list(df_sat.columns)"
   ]
  },
  {
   "cell_type": "code",
   "execution_count": 35,
   "metadata": {},
   "outputs": [
    {
     "data": {
      "text/plain": [
       "Index(['State', 'English', 'Math', 'Participate'], dtype='object')"
      ]
     },
     "execution_count": 35,
     "metadata": {},
     "output_type": "execute_result"
    }
   ],
   "source": [
    "# You know what? Let's drop Total. I bet we don't really need it later in this project.\n",
    "df_sat.drop(['Total'], axis=1, inplace=True)\n",
    "df_sat.columns"
   ]
  },
  {
   "cell_type": "code",
   "execution_count": 36,
   "metadata": {
    "collapsed": true
   },
   "outputs": [],
   "source": [
    "# and make the dictionary:\n",
    "keys = list(df_sat.columns)\n",
    "values = []\n",
    "values.append([df_sat['State']])\n",
    "values.append([df_sat['English']])\n",
    "values.append([df_sat['Math']])\n",
    "values.append([df_sat['Participate']])\n",
    "sat_dict = dict(zip(keys, values))"
   ]
  },
  {
   "cell_type": "code",
   "execution_count": 37,
   "metadata": {
    "scrolled": true
   },
   "outputs": [
    {
     "data": {
      "text/plain": [
       "{'English': [0     593\n",
       "  1     547\n",
       "  2     563\n",
       "  3     614\n",
       "  4     531\n",
       "  5     606\n",
       "  6     530\n",
       "  7     503\n",
       "  8     482\n",
       "  9     520\n",
       "  10    535\n",
       "  11    544\n",
       "  12    513\n",
       "  13    559\n",
       "  14    542\n",
       "  15    641\n",
       "  16    632\n",
       "  17    631\n",
       "  18    611\n",
       "  19    513\n",
       "  20    536\n",
       "  21    555\n",
       "  22    509\n",
       "  23    644\n",
       "  24    634\n",
       "  25    640\n",
       "  26    605\n",
       "  27    629\n",
       "  28    563\n",
       "  29    532\n",
       "  30    530\n",
       "  31    577\n",
       "  32    528\n",
       "  33    546\n",
       "  34    635\n",
       "  35    578\n",
       "  36    530\n",
       "  37    560\n",
       "  38    540\n",
       "  39    539\n",
       "  40    543\n",
       "  41    612\n",
       "  42    623\n",
       "  43    513\n",
       "  44    624\n",
       "  45    562\n",
       "  46    561\n",
       "  47    541\n",
       "  48    558\n",
       "  49    642\n",
       "  50    626\n",
       "  Name: English, dtype: int64], 'Math': [0     572\n",
       "  1     533\n",
       "  2     553\n",
       "  3     594\n",
       "  4     524\n",
       "  5     595\n",
       "  6     512\n",
       "  7     492\n",
       "  8     468\n",
       "  9     497\n",
       "  10    515\n",
       "  11    541\n",
       "  12    493\n",
       "  13    556\n",
       "  14    532\n",
       "  15    635\n",
       "  16    628\n",
       "  17    616\n",
       "  18    586\n",
       "  19    499\n",
       "  20    524\n",
       "  21    551\n",
       "  22    495\n",
       "  23    651\n",
       "  24    607\n",
       "  25    631\n",
       "  26    591\n",
       "  27    625\n",
       "  28    553\n",
       "  29    520\n",
       "  30    526\n",
       "  31    561\n",
       "  32    523\n",
       "  33    535\n",
       "  34    621\n",
       "  35    570\n",
       "  36    517\n",
       "  37    548\n",
       "  38    531\n",
       "  39    524\n",
       "  40    521\n",
       "  41    603\n",
       "  42    604\n",
       "  43    507\n",
       "  44    614\n",
       "  45    551\n",
       "  46    541\n",
       "  47    534\n",
       "  48    528\n",
       "  49    649\n",
       "  50    604\n",
       "  Name: Math, dtype: int64], 'Participate': [0       5\n",
       "  1      38\n",
       "  2      30\n",
       "  3       3\n",
       "  4      53\n",
       "  5      11\n",
       "  6     100\n",
       "  7     100\n",
       "  8     100\n",
       "  9      83\n",
       "  10     61\n",
       "  11     55\n",
       "  12     93\n",
       "  13      9\n",
       "  14     63\n",
       "  15      2\n",
       "  16      4\n",
       "  17      4\n",
       "  18      4\n",
       "  19     95\n",
       "  20     69\n",
       "  21     76\n",
       "  22    100\n",
       "  23      3\n",
       "  24      2\n",
       "  25      3\n",
       "  26     10\n",
       "  27      3\n",
       "  28     26\n",
       "  29     96\n",
       "  30     70\n",
       "  31     11\n",
       "  32     67\n",
       "  33     49\n",
       "  34      2\n",
       "  35     12\n",
       "  36      7\n",
       "  37     43\n",
       "  38     65\n",
       "  39     71\n",
       "  40     50\n",
       "  41      3\n",
       "  42      5\n",
       "  43     62\n",
       "  44      3\n",
       "  45     60\n",
       "  46     65\n",
       "  47     64\n",
       "  48     14\n",
       "  49      3\n",
       "  50      3\n",
       "  Name: Participate, dtype: int64], 'State': [0                  Alabama\n",
       "  1                   Alaska\n",
       "  2                  Arizona\n",
       "  3                 Arkansas\n",
       "  4               California\n",
       "  5                 Colorado\n",
       "  6              Connecticut\n",
       "  7                 Delaware\n",
       "  8     District of Columbia\n",
       "  9                  Florida\n",
       "  10                 Georgia\n",
       "  11                  Hawaii\n",
       "  12                   Idaho\n",
       "  13                Illinois\n",
       "  14                 Indiana\n",
       "  15                    Iowa\n",
       "  16                  Kansas\n",
       "  17                Kentucky\n",
       "  18               Louisiana\n",
       "  19                   Maine\n",
       "  20                Maryland\n",
       "  21           Massachusetts\n",
       "  22                Michigan\n",
       "  23               Minnesota\n",
       "  24             Mississippi\n",
       "  25                Missouri\n",
       "  26                 Montana\n",
       "  27                Nebraska\n",
       "  28                  Nevada\n",
       "  29           New Hampshire\n",
       "  30              New Jersey\n",
       "  31              New Mexico\n",
       "  32                New York\n",
       "  33          North Carolina\n",
       "  34            North Dakota\n",
       "  35                    Ohio\n",
       "  36                Oklahoma\n",
       "  37                  Oregon\n",
       "  38            Pennsylvania\n",
       "  39            Rhode Island\n",
       "  40          South Carolina\n",
       "  41            South Dakota\n",
       "  42               Tennessee\n",
       "  43                   Texas\n",
       "  44                    Utah\n",
       "  45                 Vermont\n",
       "  46                Virginia\n",
       "  47              Washington\n",
       "  48           West Virginia\n",
       "  49               Wisconsin\n",
       "  50                 Wyoming\n",
       "  Name: State, dtype: object]}"
      ]
     },
     "execution_count": 37,
     "metadata": {},
     "output_type": "execute_result"
    }
   ],
   "source": [
    "# How's it look? Okie-dokie.\n",
    "sat_dict"
   ]
  },
  {
   "cell_type": "markdown",
   "metadata": {},
   "source": [
    "##### 9. Merge the dataframes on the state column."
   ]
  },
  {
   "cell_type": "code",
   "execution_count": 38,
   "metadata": {},
   "outputs": [
    {
     "name": "stdout",
     "output_type": "stream",
     "text": [
      "52\n",
      "51\n"
     ]
    }
   ],
   "source": [
    "# Houston, we have a problem: different lengths.\n",
    "print(len(df_act['State']))\n",
    "print(len(df_sat['State']))"
   ]
  },
  {
   "cell_type": "code",
   "execution_count": 39,
   "metadata": {},
   "outputs": [
    {
     "name": "stdout",
     "output_type": "stream",
     "text": [
      "51\n"
     ]
    }
   ],
   "source": [
    "# I assume that the 51st is DC, but what's that 52nd state? Puerto Rico?\n",
    "df_act['State']\n",
    "# Oh, it's National. Don't really need that because it's just an aggregate of other columns.\n",
    "# Let's give it the axe.\n",
    "df_act=df_act[df_act.State != 'National']\n",
    "print(len(df_act['State']))"
   ]
  },
  {
   "cell_type": "code",
   "execution_count": 40,
   "metadata": {
    "collapsed": true
   },
   "outputs": [],
   "source": [
    "# Before merging, we have to reset the indices so they line up.\n",
    "df_sat.reset_index(drop=True, inplace=True)\n",
    "df_act.reset_index(drop=True, inplace=True)"
   ]
  },
  {
   "cell_type": "code",
   "execution_count": 41,
   "metadata": {
    "scrolled": true
   },
   "outputs": [
    {
     "data": {
      "text/html": [
       "<div>\n",
       "<style>\n",
       "    .dataframe thead tr:only-child th {\n",
       "        text-align: right;\n",
       "    }\n",
       "\n",
       "    .dataframe thead th {\n",
       "        text-align: left;\n",
       "    }\n",
       "\n",
       "    .dataframe tbody tr th {\n",
       "        vertical-align: top;\n",
       "    }\n",
       "</style>\n",
       "<table border=\"1\" class=\"dataframe\">\n",
       "  <thead>\n",
       "    <tr style=\"text-align: right;\">\n",
       "      <th></th>\n",
       "      <th>State</th>\n",
       "      <th>English</th>\n",
       "      <th>Math</th>\n",
       "      <th>Participate</th>\n",
       "      <th>State</th>\n",
       "      <th>English</th>\n",
       "      <th>Math</th>\n",
       "      <th>Participate</th>\n",
       "    </tr>\n",
       "  </thead>\n",
       "  <tbody>\n",
       "    <tr>\n",
       "      <th>0</th>\n",
       "      <td>Alabama</td>\n",
       "      <td>18.9</td>\n",
       "      <td>18.4</td>\n",
       "      <td>100</td>\n",
       "      <td>Alabama</td>\n",
       "      <td>593</td>\n",
       "      <td>572</td>\n",
       "      <td>5</td>\n",
       "    </tr>\n",
       "    <tr>\n",
       "      <th>1</th>\n",
       "      <td>Alaska</td>\n",
       "      <td>18.7</td>\n",
       "      <td>19.8</td>\n",
       "      <td>65</td>\n",
       "      <td>Alaska</td>\n",
       "      <td>547</td>\n",
       "      <td>533</td>\n",
       "      <td>38</td>\n",
       "    </tr>\n",
       "    <tr>\n",
       "      <th>2</th>\n",
       "      <td>Arizona</td>\n",
       "      <td>18.6</td>\n",
       "      <td>19.8</td>\n",
       "      <td>62</td>\n",
       "      <td>Arizona</td>\n",
       "      <td>563</td>\n",
       "      <td>553</td>\n",
       "      <td>30</td>\n",
       "    </tr>\n",
       "    <tr>\n",
       "      <th>3</th>\n",
       "      <td>Arkansas</td>\n",
       "      <td>18.9</td>\n",
       "      <td>19.0</td>\n",
       "      <td>100</td>\n",
       "      <td>Arkansas</td>\n",
       "      <td>614</td>\n",
       "      <td>594</td>\n",
       "      <td>3</td>\n",
       "    </tr>\n",
       "    <tr>\n",
       "      <th>4</th>\n",
       "      <td>California</td>\n",
       "      <td>22.5</td>\n",
       "      <td>22.7</td>\n",
       "      <td>31</td>\n",
       "      <td>California</td>\n",
       "      <td>531</td>\n",
       "      <td>524</td>\n",
       "      <td>53</td>\n",
       "    </tr>\n",
       "    <tr>\n",
       "      <th>5</th>\n",
       "      <td>Colorado</td>\n",
       "      <td>20.1</td>\n",
       "      <td>20.3</td>\n",
       "      <td>100</td>\n",
       "      <td>Colorado</td>\n",
       "      <td>606</td>\n",
       "      <td>595</td>\n",
       "      <td>11</td>\n",
       "    </tr>\n",
       "    <tr>\n",
       "      <th>6</th>\n",
       "      <td>Connecticut</td>\n",
       "      <td>25.5</td>\n",
       "      <td>24.6</td>\n",
       "      <td>31</td>\n",
       "      <td>Connecticut</td>\n",
       "      <td>530</td>\n",
       "      <td>512</td>\n",
       "      <td>100</td>\n",
       "    </tr>\n",
       "    <tr>\n",
       "      <th>7</th>\n",
       "      <td>Delaware</td>\n",
       "      <td>24.1</td>\n",
       "      <td>23.4</td>\n",
       "      <td>18</td>\n",
       "      <td>Delaware</td>\n",
       "      <td>503</td>\n",
       "      <td>492</td>\n",
       "      <td>100</td>\n",
       "    </tr>\n",
       "    <tr>\n",
       "      <th>8</th>\n",
       "      <td>District of Columbia</td>\n",
       "      <td>24.4</td>\n",
       "      <td>23.5</td>\n",
       "      <td>32</td>\n",
       "      <td>District of Columbia</td>\n",
       "      <td>482</td>\n",
       "      <td>468</td>\n",
       "      <td>100</td>\n",
       "    </tr>\n",
       "    <tr>\n",
       "      <th>9</th>\n",
       "      <td>Florida</td>\n",
       "      <td>19.0</td>\n",
       "      <td>19.4</td>\n",
       "      <td>73</td>\n",
       "      <td>Florida</td>\n",
       "      <td>520</td>\n",
       "      <td>497</td>\n",
       "      <td>83</td>\n",
       "    </tr>\n",
       "    <tr>\n",
       "      <th>10</th>\n",
       "      <td>Georgia</td>\n",
       "      <td>21.0</td>\n",
       "      <td>20.9</td>\n",
       "      <td>55</td>\n",
       "      <td>Georgia</td>\n",
       "      <td>535</td>\n",
       "      <td>515</td>\n",
       "      <td>61</td>\n",
       "    </tr>\n",
       "    <tr>\n",
       "      <th>11</th>\n",
       "      <td>Hawaii</td>\n",
       "      <td>17.8</td>\n",
       "      <td>19.2</td>\n",
       "      <td>90</td>\n",
       "      <td>Hawaii</td>\n",
       "      <td>544</td>\n",
       "      <td>541</td>\n",
       "      <td>55</td>\n",
       "    </tr>\n",
       "    <tr>\n",
       "      <th>12</th>\n",
       "      <td>Idaho</td>\n",
       "      <td>21.9</td>\n",
       "      <td>21.8</td>\n",
       "      <td>38</td>\n",
       "      <td>Idaho</td>\n",
       "      <td>513</td>\n",
       "      <td>493</td>\n",
       "      <td>93</td>\n",
       "    </tr>\n",
       "    <tr>\n",
       "      <th>13</th>\n",
       "      <td>Illinois</td>\n",
       "      <td>21.0</td>\n",
       "      <td>21.2</td>\n",
       "      <td>93</td>\n",
       "      <td>Illinois</td>\n",
       "      <td>559</td>\n",
       "      <td>556</td>\n",
       "      <td>9</td>\n",
       "    </tr>\n",
       "    <tr>\n",
       "      <th>14</th>\n",
       "      <td>Indiana</td>\n",
       "      <td>22.0</td>\n",
       "      <td>22.4</td>\n",
       "      <td>35</td>\n",
       "      <td>Indiana</td>\n",
       "      <td>542</td>\n",
       "      <td>532</td>\n",
       "      <td>63</td>\n",
       "    </tr>\n",
       "    <tr>\n",
       "      <th>15</th>\n",
       "      <td>Iowa</td>\n",
       "      <td>21.2</td>\n",
       "      <td>21.3</td>\n",
       "      <td>67</td>\n",
       "      <td>Iowa</td>\n",
       "      <td>641</td>\n",
       "      <td>635</td>\n",
       "      <td>2</td>\n",
       "    </tr>\n",
       "    <tr>\n",
       "      <th>16</th>\n",
       "      <td>Kansas</td>\n",
       "      <td>21.1</td>\n",
       "      <td>21.3</td>\n",
       "      <td>73</td>\n",
       "      <td>Kansas</td>\n",
       "      <td>632</td>\n",
       "      <td>628</td>\n",
       "      <td>4</td>\n",
       "    </tr>\n",
       "    <tr>\n",
       "      <th>17</th>\n",
       "      <td>Kentucky</td>\n",
       "      <td>19.6</td>\n",
       "      <td>19.4</td>\n",
       "      <td>100</td>\n",
       "      <td>Kentucky</td>\n",
       "      <td>631</td>\n",
       "      <td>616</td>\n",
       "      <td>4</td>\n",
       "    </tr>\n",
       "    <tr>\n",
       "      <th>18</th>\n",
       "      <td>Louisiana</td>\n",
       "      <td>19.4</td>\n",
       "      <td>18.8</td>\n",
       "      <td>100</td>\n",
       "      <td>Louisiana</td>\n",
       "      <td>611</td>\n",
       "      <td>586</td>\n",
       "      <td>4</td>\n",
       "    </tr>\n",
       "    <tr>\n",
       "      <th>19</th>\n",
       "      <td>Maine</td>\n",
       "      <td>24.2</td>\n",
       "      <td>24.0</td>\n",
       "      <td>8</td>\n",
       "      <td>Maine</td>\n",
       "      <td>513</td>\n",
       "      <td>499</td>\n",
       "      <td>95</td>\n",
       "    </tr>\n",
       "    <tr>\n",
       "      <th>20</th>\n",
       "      <td>Maryland</td>\n",
       "      <td>23.3</td>\n",
       "      <td>23.1</td>\n",
       "      <td>28</td>\n",
       "      <td>Maryland</td>\n",
       "      <td>536</td>\n",
       "      <td>524</td>\n",
       "      <td>69</td>\n",
       "    </tr>\n",
       "    <tr>\n",
       "      <th>21</th>\n",
       "      <td>Massachusetts</td>\n",
       "      <td>25.4</td>\n",
       "      <td>25.3</td>\n",
       "      <td>29</td>\n",
       "      <td>Massachusetts</td>\n",
       "      <td>555</td>\n",
       "      <td>551</td>\n",
       "      <td>76</td>\n",
       "    </tr>\n",
       "    <tr>\n",
       "      <th>22</th>\n",
       "      <td>Michigan</td>\n",
       "      <td>24.1</td>\n",
       "      <td>23.7</td>\n",
       "      <td>29</td>\n",
       "      <td>Michigan</td>\n",
       "      <td>509</td>\n",
       "      <td>495</td>\n",
       "      <td>100</td>\n",
       "    </tr>\n",
       "    <tr>\n",
       "      <th>23</th>\n",
       "      <td>Minnesota</td>\n",
       "      <td>20.4</td>\n",
       "      <td>21.5</td>\n",
       "      <td>100</td>\n",
       "      <td>Minnesota</td>\n",
       "      <td>644</td>\n",
       "      <td>651</td>\n",
       "      <td>3</td>\n",
       "    </tr>\n",
       "    <tr>\n",
       "      <th>24</th>\n",
       "      <td>Mississippi</td>\n",
       "      <td>18.2</td>\n",
       "      <td>18.1</td>\n",
       "      <td>100</td>\n",
       "      <td>Mississippi</td>\n",
       "      <td>634</td>\n",
       "      <td>607</td>\n",
       "      <td>2</td>\n",
       "    </tr>\n",
       "    <tr>\n",
       "      <th>25</th>\n",
       "      <td>Missouri</td>\n",
       "      <td>19.8</td>\n",
       "      <td>19.9</td>\n",
       "      <td>100</td>\n",
       "      <td>Missouri</td>\n",
       "      <td>640</td>\n",
       "      <td>631</td>\n",
       "      <td>3</td>\n",
       "    </tr>\n",
       "    <tr>\n",
       "      <th>26</th>\n",
       "      <td>Montana</td>\n",
       "      <td>19.0</td>\n",
       "      <td>20.2</td>\n",
       "      <td>100</td>\n",
       "      <td>Montana</td>\n",
       "      <td>605</td>\n",
       "      <td>591</td>\n",
       "      <td>10</td>\n",
       "    </tr>\n",
       "    <tr>\n",
       "      <th>27</th>\n",
       "      <td>Nebraska</td>\n",
       "      <td>20.9</td>\n",
       "      <td>20.9</td>\n",
       "      <td>84</td>\n",
       "      <td>Nebraska</td>\n",
       "      <td>629</td>\n",
       "      <td>625</td>\n",
       "      <td>3</td>\n",
       "    </tr>\n",
       "    <tr>\n",
       "      <th>28</th>\n",
       "      <td>Nevada</td>\n",
       "      <td>16.3</td>\n",
       "      <td>18.0</td>\n",
       "      <td>100</td>\n",
       "      <td>Nevada</td>\n",
       "      <td>563</td>\n",
       "      <td>553</td>\n",
       "      <td>26</td>\n",
       "    </tr>\n",
       "    <tr>\n",
       "      <th>29</th>\n",
       "      <td>New Hampshire</td>\n",
       "      <td>25.4</td>\n",
       "      <td>25.1</td>\n",
       "      <td>18</td>\n",
       "      <td>New Hampshire</td>\n",
       "      <td>532</td>\n",
       "      <td>520</td>\n",
       "      <td>96</td>\n",
       "    </tr>\n",
       "    <tr>\n",
       "      <th>30</th>\n",
       "      <td>New Jersey</td>\n",
       "      <td>23.8</td>\n",
       "      <td>23.8</td>\n",
       "      <td>34</td>\n",
       "      <td>New Jersey</td>\n",
       "      <td>530</td>\n",
       "      <td>526</td>\n",
       "      <td>70</td>\n",
       "    </tr>\n",
       "    <tr>\n",
       "      <th>31</th>\n",
       "      <td>New Mexico</td>\n",
       "      <td>18.6</td>\n",
       "      <td>19.4</td>\n",
       "      <td>66</td>\n",
       "      <td>New Mexico</td>\n",
       "      <td>577</td>\n",
       "      <td>561</td>\n",
       "      <td>11</td>\n",
       "    </tr>\n",
       "    <tr>\n",
       "      <th>32</th>\n",
       "      <td>New York</td>\n",
       "      <td>23.8</td>\n",
       "      <td>24.0</td>\n",
       "      <td>31</td>\n",
       "      <td>New York</td>\n",
       "      <td>528</td>\n",
       "      <td>523</td>\n",
       "      <td>67</td>\n",
       "    </tr>\n",
       "    <tr>\n",
       "      <th>33</th>\n",
       "      <td>North Carolina</td>\n",
       "      <td>17.8</td>\n",
       "      <td>19.3</td>\n",
       "      <td>100</td>\n",
       "      <td>North Carolina</td>\n",
       "      <td>546</td>\n",
       "      <td>535</td>\n",
       "      <td>49</td>\n",
       "    </tr>\n",
       "    <tr>\n",
       "      <th>34</th>\n",
       "      <td>North Dakota</td>\n",
       "      <td>19.0</td>\n",
       "      <td>20.4</td>\n",
       "      <td>98</td>\n",
       "      <td>North Dakota</td>\n",
       "      <td>635</td>\n",
       "      <td>621</td>\n",
       "      <td>2</td>\n",
       "    </tr>\n",
       "    <tr>\n",
       "      <th>35</th>\n",
       "      <td>Ohio</td>\n",
       "      <td>21.2</td>\n",
       "      <td>21.6</td>\n",
       "      <td>75</td>\n",
       "      <td>Ohio</td>\n",
       "      <td>578</td>\n",
       "      <td>570</td>\n",
       "      <td>12</td>\n",
       "    </tr>\n",
       "    <tr>\n",
       "      <th>36</th>\n",
       "      <td>Oklahoma</td>\n",
       "      <td>18.5</td>\n",
       "      <td>18.8</td>\n",
       "      <td>100</td>\n",
       "      <td>Oklahoma</td>\n",
       "      <td>530</td>\n",
       "      <td>517</td>\n",
       "      <td>7</td>\n",
       "    </tr>\n",
       "    <tr>\n",
       "      <th>37</th>\n",
       "      <td>Oregon</td>\n",
       "      <td>21.2</td>\n",
       "      <td>21.5</td>\n",
       "      <td>40</td>\n",
       "      <td>Oregon</td>\n",
       "      <td>560</td>\n",
       "      <td>548</td>\n",
       "      <td>43</td>\n",
       "    </tr>\n",
       "    <tr>\n",
       "      <th>38</th>\n",
       "      <td>Pennsylvania</td>\n",
       "      <td>23.4</td>\n",
       "      <td>23.4</td>\n",
       "      <td>23</td>\n",
       "      <td>Pennsylvania</td>\n",
       "      <td>540</td>\n",
       "      <td>531</td>\n",
       "      <td>65</td>\n",
       "    </tr>\n",
       "    <tr>\n",
       "      <th>39</th>\n",
       "      <td>Rhode Island</td>\n",
       "      <td>24.0</td>\n",
       "      <td>23.3</td>\n",
       "      <td>21</td>\n",
       "      <td>Rhode Island</td>\n",
       "      <td>539</td>\n",
       "      <td>524</td>\n",
       "      <td>71</td>\n",
       "    </tr>\n",
       "    <tr>\n",
       "      <th>40</th>\n",
       "      <td>South Carolina</td>\n",
       "      <td>17.5</td>\n",
       "      <td>18.6</td>\n",
       "      <td>100</td>\n",
       "      <td>South Carolina</td>\n",
       "      <td>543</td>\n",
       "      <td>521</td>\n",
       "      <td>50</td>\n",
       "    </tr>\n",
       "    <tr>\n",
       "      <th>41</th>\n",
       "      <td>South Dakota</td>\n",
       "      <td>20.7</td>\n",
       "      <td>21.5</td>\n",
       "      <td>80</td>\n",
       "      <td>South Dakota</td>\n",
       "      <td>612</td>\n",
       "      <td>603</td>\n",
       "      <td>3</td>\n",
       "    </tr>\n",
       "    <tr>\n",
       "      <th>42</th>\n",
       "      <td>Tennessee</td>\n",
       "      <td>19.5</td>\n",
       "      <td>19.2</td>\n",
       "      <td>100</td>\n",
       "      <td>Tennessee</td>\n",
       "      <td>623</td>\n",
       "      <td>604</td>\n",
       "      <td>5</td>\n",
       "    </tr>\n",
       "    <tr>\n",
       "      <th>43</th>\n",
       "      <td>Texas</td>\n",
       "      <td>19.5</td>\n",
       "      <td>20.7</td>\n",
       "      <td>45</td>\n",
       "      <td>Texas</td>\n",
       "      <td>513</td>\n",
       "      <td>507</td>\n",
       "      <td>62</td>\n",
       "    </tr>\n",
       "    <tr>\n",
       "      <th>44</th>\n",
       "      <td>Utah</td>\n",
       "      <td>19.5</td>\n",
       "      <td>19.9</td>\n",
       "      <td>100</td>\n",
       "      <td>Utah</td>\n",
       "      <td>624</td>\n",
       "      <td>614</td>\n",
       "      <td>3</td>\n",
       "    </tr>\n",
       "    <tr>\n",
       "      <th>45</th>\n",
       "      <td>Vermont</td>\n",
       "      <td>23.3</td>\n",
       "      <td>23.1</td>\n",
       "      <td>29</td>\n",
       "      <td>Vermont</td>\n",
       "      <td>562</td>\n",
       "      <td>551</td>\n",
       "      <td>60</td>\n",
       "    </tr>\n",
       "    <tr>\n",
       "      <th>46</th>\n",
       "      <td>Virginia</td>\n",
       "      <td>23.5</td>\n",
       "      <td>23.3</td>\n",
       "      <td>29</td>\n",
       "      <td>Virginia</td>\n",
       "      <td>561</td>\n",
       "      <td>541</td>\n",
       "      <td>65</td>\n",
       "    </tr>\n",
       "    <tr>\n",
       "      <th>47</th>\n",
       "      <td>Washington</td>\n",
       "      <td>20.9</td>\n",
       "      <td>21.9</td>\n",
       "      <td>29</td>\n",
       "      <td>Washington</td>\n",
       "      <td>541</td>\n",
       "      <td>534</td>\n",
       "      <td>64</td>\n",
       "    </tr>\n",
       "    <tr>\n",
       "      <th>48</th>\n",
       "      <td>West Virginia</td>\n",
       "      <td>20.0</td>\n",
       "      <td>19.4</td>\n",
       "      <td>69</td>\n",
       "      <td>West Virginia</td>\n",
       "      <td>558</td>\n",
       "      <td>528</td>\n",
       "      <td>14</td>\n",
       "    </tr>\n",
       "    <tr>\n",
       "      <th>49</th>\n",
       "      <td>Wisconsin</td>\n",
       "      <td>19.7</td>\n",
       "      <td>20.4</td>\n",
       "      <td>100</td>\n",
       "      <td>Wisconsin</td>\n",
       "      <td>642</td>\n",
       "      <td>649</td>\n",
       "      <td>3</td>\n",
       "    </tr>\n",
       "    <tr>\n",
       "      <th>50</th>\n",
       "      <td>Wyoming</td>\n",
       "      <td>19.4</td>\n",
       "      <td>19.8</td>\n",
       "      <td>100</td>\n",
       "      <td>Wyoming</td>\n",
       "      <td>626</td>\n",
       "      <td>604</td>\n",
       "      <td>3</td>\n",
       "    </tr>\n",
       "  </tbody>\n",
       "</table>\n",
       "</div>"
      ],
      "text/plain": [
       "                   State  English  Math  Participate                 State  \\\n",
       "0                Alabama     18.9  18.4          100               Alabama   \n",
       "1                 Alaska     18.7  19.8           65                Alaska   \n",
       "2                Arizona     18.6  19.8           62               Arizona   \n",
       "3               Arkansas     18.9  19.0          100              Arkansas   \n",
       "4             California     22.5  22.7           31            California   \n",
       "5               Colorado     20.1  20.3          100              Colorado   \n",
       "6            Connecticut     25.5  24.6           31           Connecticut   \n",
       "7               Delaware     24.1  23.4           18              Delaware   \n",
       "8   District of Columbia     24.4  23.5           32  District of Columbia   \n",
       "9                Florida     19.0  19.4           73               Florida   \n",
       "10               Georgia     21.0  20.9           55               Georgia   \n",
       "11                Hawaii     17.8  19.2           90                Hawaii   \n",
       "12                 Idaho     21.9  21.8           38                 Idaho   \n",
       "13              Illinois     21.0  21.2           93              Illinois   \n",
       "14               Indiana     22.0  22.4           35               Indiana   \n",
       "15                  Iowa     21.2  21.3           67                  Iowa   \n",
       "16                Kansas     21.1  21.3           73                Kansas   \n",
       "17              Kentucky     19.6  19.4          100              Kentucky   \n",
       "18             Louisiana     19.4  18.8          100             Louisiana   \n",
       "19                 Maine     24.2  24.0            8                 Maine   \n",
       "20              Maryland     23.3  23.1           28              Maryland   \n",
       "21         Massachusetts     25.4  25.3           29         Massachusetts   \n",
       "22              Michigan     24.1  23.7           29              Michigan   \n",
       "23             Minnesota     20.4  21.5          100             Minnesota   \n",
       "24           Mississippi     18.2  18.1          100           Mississippi   \n",
       "25              Missouri     19.8  19.9          100              Missouri   \n",
       "26               Montana     19.0  20.2          100               Montana   \n",
       "27              Nebraska     20.9  20.9           84              Nebraska   \n",
       "28                Nevada     16.3  18.0          100                Nevada   \n",
       "29         New Hampshire     25.4  25.1           18         New Hampshire   \n",
       "30            New Jersey     23.8  23.8           34            New Jersey   \n",
       "31            New Mexico     18.6  19.4           66            New Mexico   \n",
       "32              New York     23.8  24.0           31              New York   \n",
       "33        North Carolina     17.8  19.3          100        North Carolina   \n",
       "34          North Dakota     19.0  20.4           98          North Dakota   \n",
       "35                  Ohio     21.2  21.6           75                  Ohio   \n",
       "36              Oklahoma     18.5  18.8          100              Oklahoma   \n",
       "37                Oregon     21.2  21.5           40                Oregon   \n",
       "38          Pennsylvania     23.4  23.4           23          Pennsylvania   \n",
       "39          Rhode Island     24.0  23.3           21          Rhode Island   \n",
       "40        South Carolina     17.5  18.6          100        South Carolina   \n",
       "41          South Dakota     20.7  21.5           80          South Dakota   \n",
       "42             Tennessee     19.5  19.2          100             Tennessee   \n",
       "43                 Texas     19.5  20.7           45                 Texas   \n",
       "44                  Utah     19.5  19.9          100                  Utah   \n",
       "45               Vermont     23.3  23.1           29               Vermont   \n",
       "46              Virginia     23.5  23.3           29              Virginia   \n",
       "47            Washington     20.9  21.9           29            Washington   \n",
       "48         West Virginia     20.0  19.4           69         West Virginia   \n",
       "49             Wisconsin     19.7  20.4          100             Wisconsin   \n",
       "50               Wyoming     19.4  19.8          100               Wyoming   \n",
       "\n",
       "    English  Math  Participate  \n",
       "0       593   572            5  \n",
       "1       547   533           38  \n",
       "2       563   553           30  \n",
       "3       614   594            3  \n",
       "4       531   524           53  \n",
       "5       606   595           11  \n",
       "6       530   512          100  \n",
       "7       503   492          100  \n",
       "8       482   468          100  \n",
       "9       520   497           83  \n",
       "10      535   515           61  \n",
       "11      544   541           55  \n",
       "12      513   493           93  \n",
       "13      559   556            9  \n",
       "14      542   532           63  \n",
       "15      641   635            2  \n",
       "16      632   628            4  \n",
       "17      631   616            4  \n",
       "18      611   586            4  \n",
       "19      513   499           95  \n",
       "20      536   524           69  \n",
       "21      555   551           76  \n",
       "22      509   495          100  \n",
       "23      644   651            3  \n",
       "24      634   607            2  \n",
       "25      640   631            3  \n",
       "26      605   591           10  \n",
       "27      629   625            3  \n",
       "28      563   553           26  \n",
       "29      532   520           96  \n",
       "30      530   526           70  \n",
       "31      577   561           11  \n",
       "32      528   523           67  \n",
       "33      546   535           49  \n",
       "34      635   621            2  \n",
       "35      578   570           12  \n",
       "36      530   517            7  \n",
       "37      560   548           43  \n",
       "38      540   531           65  \n",
       "39      539   524           71  \n",
       "40      543   521           50  \n",
       "41      612   603            3  \n",
       "42      623   604            5  \n",
       "43      513   507           62  \n",
       "44      624   614            3  \n",
       "45      562   551           60  \n",
       "46      561   541           65  \n",
       "47      541   534           64  \n",
       "48      558   528           14  \n",
       "49      642   649            3  \n",
       "50      626   604            3  "
      ]
     },
     "execution_count": 41,
     "metadata": {},
     "output_type": "execute_result"
    }
   ],
   "source": [
    "# and now we can merge them together:\n",
    "df_both=pd.concat([df_act, df_sat], axis=1)\n",
    "df_both"
   ]
  },
  {
   "cell_type": "markdown",
   "metadata": {},
   "source": [
    "##### 10. Change the names of the columns so you can distinguish between the SAT columns and the ACT columns."
   ]
  },
  {
   "cell_type": "code",
   "execution_count": 42,
   "metadata": {},
   "outputs": [
    {
     "data": {
      "text/plain": [
       "Index(['State', 'English', 'Math', 'Participate', 'State', 'English', 'Math',\n",
       "       'Participate'],\n",
       "      dtype='object')"
      ]
     },
     "execution_count": 42,
     "metadata": {},
     "output_type": "execute_result"
    }
   ],
   "source": [
    "df_both.columns"
   ]
  },
  {
   "cell_type": "code",
   "execution_count": 43,
   "metadata": {},
   "outputs": [
    {
     "data": {
      "text/plain": [
       "Index(['State', 'ACT_English', 'ACT_Math', 'ACT_Participate', 'SAT_English',\n",
       "       'SAT_Math', 'SAT_Participate'],\n",
       "      dtype='object')"
      ]
     },
     "execution_count": 43,
     "metadata": {},
     "output_type": "execute_result"
    }
   ],
   "source": [
    "# Let's rename:\n",
    "cols = ['State', 'ACT_English', 'ACT_Math', 'ACT_Participate', 'SAT_State', 'SAT_English', 'SAT_Math',\n",
    "       'SAT_Participate']\n",
    "df_both.columns=cols\n",
    "# Also, let's drop the second state 'cuz its redundant\n",
    "df_both.drop(['SAT_State'], axis=1, inplace=True)\n",
    "df_both.columns"
   ]
  },
  {
   "cell_type": "markdown",
   "metadata": {},
   "source": [
    "##### 11. Print the minimum and maximum of each numeric column in the data frame."
   ]
  },
  {
   "cell_type": "code",
   "execution_count": 44,
   "metadata": {},
   "outputs": [
    {
     "name": "stdout",
     "output_type": "stream",
     "text": [
      "*minimum* State              Alabama\n",
      "ACT_English           16.3\n",
      "ACT_Math                18\n",
      "ACT_Participate          8\n",
      "SAT_English            482\n",
      "SAT_Math               468\n",
      "SAT_Participate          2\n",
      "dtype: object\n",
      "*maximum* State              Wyoming\n",
      "ACT_English           25.5\n",
      "ACT_Math              25.3\n",
      "ACT_Participate        100\n",
      "SAT_English            644\n",
      "SAT_Math               651\n",
      "SAT_Participate        100\n",
      "dtype: object\n"
     ]
    }
   ],
   "source": [
    "print('*minimum*', df_both.min())\n",
    "print('*maximum*', df_both.max())"
   ]
  },
  {
   "cell_type": "markdown",
   "metadata": {},
   "source": [
    "##### 12. Write a function using only list comprehensions, no loops, to compute standard deviation. Using this function, calculate the standard deviation of each numeric column in both data sets. Add these to a list called `sd`.\n",
    "\n",
    "$$\\sigma = \\sqrt{\\frac{1}{n}\\sum_{i=1}^n(x_i - \\mu)^2}$$"
   ]
  },
  {
   "cell_type": "code",
   "execution_count": 45,
   "metadata": {},
   "outputs": [
    {
     "data": {
      "text/plain": [
       "[2.3304876369363363,\n",
       " 1.9624620273436781,\n",
       " 31.824175751231806,\n",
       " 45.21697020437866,\n",
       " 46.65713364485503,\n",
       " 34.92907076664508]"
      ]
     },
     "execution_count": 45,
     "metadata": {},
     "output_type": "execute_result"
    }
   ],
   "source": [
    "# It's 1:00 am. Sorry, but I'm taking the short cut on this one.\n",
    "sd=[]\n",
    "for x in ['ACT_English', 'ACT_Math', 'ACT_Participate', 'SAT_English',\n",
    "       'SAT_Math', 'SAT_Participate']:\n",
    "    y=std_devs=np.std(df_both[x])\n",
    "    sd.append(y)\n",
    "sd"
   ]
  },
  {
   "cell_type": "markdown",
   "metadata": {},
   "source": [
    "## Step 2: Manipulate the dataframe"
   ]
  },
  {
   "cell_type": "markdown",
   "metadata": {},
   "source": [
    "##### 13. Turn the list `sd` into a new observation in your dataset."
   ]
  },
  {
   "cell_type": "code",
   "execution_count": 46,
   "metadata": {},
   "outputs": [
    {
     "data": {
      "text/html": [
       "<div>\n",
       "<style>\n",
       "    .dataframe thead tr:only-child th {\n",
       "        text-align: right;\n",
       "    }\n",
       "\n",
       "    .dataframe thead th {\n",
       "        text-align: left;\n",
       "    }\n",
       "\n",
       "    .dataframe tbody tr th {\n",
       "        vertical-align: top;\n",
       "    }\n",
       "</style>\n",
       "<table border=\"1\" class=\"dataframe\">\n",
       "  <thead>\n",
       "    <tr style=\"text-align: right;\">\n",
       "      <th></th>\n",
       "      <th>State</th>\n",
       "      <th>ACT_English</th>\n",
       "      <th>ACT_Math</th>\n",
       "      <th>ACT_Participate</th>\n",
       "      <th>SAT_English</th>\n",
       "      <th>SAT_Math</th>\n",
       "      <th>SAT_Participate</th>\n",
       "    </tr>\n",
       "  </thead>\n",
       "  <tbody>\n",
       "    <tr>\n",
       "      <th>46</th>\n",
       "      <td>Virginia</td>\n",
       "      <td>23.5</td>\n",
       "      <td>23.3</td>\n",
       "      <td>29</td>\n",
       "      <td>561</td>\n",
       "      <td>541</td>\n",
       "      <td>65</td>\n",
       "    </tr>\n",
       "    <tr>\n",
       "      <th>47</th>\n",
       "      <td>Washington</td>\n",
       "      <td>20.9</td>\n",
       "      <td>21.9</td>\n",
       "      <td>29</td>\n",
       "      <td>541</td>\n",
       "      <td>534</td>\n",
       "      <td>64</td>\n",
       "    </tr>\n",
       "    <tr>\n",
       "      <th>48</th>\n",
       "      <td>West Virginia</td>\n",
       "      <td>20.0</td>\n",
       "      <td>19.4</td>\n",
       "      <td>69</td>\n",
       "      <td>558</td>\n",
       "      <td>528</td>\n",
       "      <td>14</td>\n",
       "    </tr>\n",
       "    <tr>\n",
       "      <th>49</th>\n",
       "      <td>Wisconsin</td>\n",
       "      <td>19.7</td>\n",
       "      <td>20.4</td>\n",
       "      <td>100</td>\n",
       "      <td>642</td>\n",
       "      <td>649</td>\n",
       "      <td>3</td>\n",
       "    </tr>\n",
       "    <tr>\n",
       "      <th>50</th>\n",
       "      <td>Wyoming</td>\n",
       "      <td>19.4</td>\n",
       "      <td>19.8</td>\n",
       "      <td>100</td>\n",
       "      <td>626</td>\n",
       "      <td>604</td>\n",
       "      <td>3</td>\n",
       "    </tr>\n",
       "  </tbody>\n",
       "</table>\n",
       "</div>"
      ],
      "text/plain": [
       "            State  ACT_English  ACT_Math  ACT_Participate  SAT_English  \\\n",
       "46       Virginia         23.5      23.3               29          561   \n",
       "47     Washington         20.9      21.9               29          541   \n",
       "48  West Virginia         20.0      19.4               69          558   \n",
       "49      Wisconsin         19.7      20.4              100          642   \n",
       "50        Wyoming         19.4      19.8              100          626   \n",
       "\n",
       "    SAT_Math  SAT_Participate  \n",
       "46       541               65  \n",
       "47       534               64  \n",
       "48       528               14  \n",
       "49       649                3  \n",
       "50       604                3  "
      ]
     },
     "execution_count": 46,
     "metadata": {},
     "output_type": "execute_result"
    }
   ],
   "source": [
    "df_both.tail()"
   ]
  },
  {
   "cell_type": "code",
   "execution_count": 47,
   "metadata": {},
   "outputs": [
    {
     "data": {
      "text/plain": [
       "['std_dev',\n",
       " 2.3304876369363363,\n",
       " 1.9624620273436781,\n",
       " 31.824175751231806,\n",
       " 45.21697020437866,\n",
       " 46.65713364485503,\n",
       " 34.92907076664508]"
      ]
     },
     "execution_count": 47,
     "metadata": {},
     "output_type": "execute_result"
    }
   ],
   "source": [
    "# First, we need to insert a label at the beginning of our std dev values\n",
    "sd.insert(0,'std_dev')\n",
    "sd"
   ]
  },
  {
   "cell_type": "code",
   "execution_count": 48,
   "metadata": {},
   "outputs": [
    {
     "name": "stdout",
     "output_type": "stream",
     "text": [
      "             State  ACT_English   ACT_Math  ACT_Participate  SAT_English  \\\n",
      " 47     Washington    20.900000  21.900000        29.000000    541.00000   \n",
      " 48  West Virginia    20.000000  19.400000        69.000000    558.00000   \n",
      " 49      Wisconsin    19.700000  20.400000       100.000000    642.00000   \n",
      " 50        Wyoming    19.400000  19.800000       100.000000    626.00000   \n",
      "-1         std_dev     2.330488   1.962462        31.824176     45.21697   \n",
      "\n",
      "       SAT_Math  SAT_Participate  \n",
      " 47  534.000000        64.000000  \n",
      " 48  528.000000        14.000000  \n",
      " 49  649.000000         3.000000  \n",
      " 50  604.000000         3.000000  \n",
      "-1    46.657134        34.929071  \n"
     ]
    }
   ],
   "source": [
    "# now we insert std dev as a new observation (i.e., row) at the end of the dataframe.\n",
    "\n",
    "df_both.loc[-1] = sd\n",
    "print(df_both.tail())\n",
    "df_both=df_both[df_both.State != 'std_dev']\n"
   ]
  },
  {
   "cell_type": "markdown",
   "metadata": {},
   "source": [
    "##### 14. Sort the dataframe by the values in a numeric column (e.g. observations descending by SAT participation rate)"
   ]
  },
  {
   "cell_type": "code",
   "execution_count": 49,
   "metadata": {},
   "outputs": [
    {
     "name": "stderr",
     "output_type": "stream",
     "text": [
      "/Users/austinlasseter/anaconda3/lib/python3.6/site-packages/ipykernel_launcher.py:1: SettingWithCopyWarning: \n",
      "A value is trying to be set on a copy of a slice from a DataFrame\n",
      "\n",
      "See the caveats in the documentation: http://pandas.pydata.org/pandas-docs/stable/indexing.html#indexing-view-versus-copy\n",
      "  \"\"\"Entry point for launching an IPython kernel.\n"
     ]
    },
    {
     "data": {
      "text/html": [
       "<div>\n",
       "<style>\n",
       "    .dataframe thead tr:only-child th {\n",
       "        text-align: right;\n",
       "    }\n",
       "\n",
       "    .dataframe thead th {\n",
       "        text-align: left;\n",
       "    }\n",
       "\n",
       "    .dataframe tbody tr th {\n",
       "        vertical-align: top;\n",
       "    }\n",
       "</style>\n",
       "<table border=\"1\" class=\"dataframe\">\n",
       "  <thead>\n",
       "    <tr style=\"text-align: right;\">\n",
       "      <th></th>\n",
       "      <th>State</th>\n",
       "      <th>ACT_English</th>\n",
       "      <th>ACT_Math</th>\n",
       "      <th>ACT_Participate</th>\n",
       "      <th>SAT_English</th>\n",
       "      <th>SAT_Math</th>\n",
       "      <th>SAT_Participate</th>\n",
       "    </tr>\n",
       "  </thead>\n",
       "  <tbody>\n",
       "    <tr>\n",
       "      <th>8</th>\n",
       "      <td>District of Columbia</td>\n",
       "      <td>24.4</td>\n",
       "      <td>23.5</td>\n",
       "      <td>32.0</td>\n",
       "      <td>482.0</td>\n",
       "      <td>468.0</td>\n",
       "      <td>100.0</td>\n",
       "    </tr>\n",
       "    <tr>\n",
       "      <th>22</th>\n",
       "      <td>Michigan</td>\n",
       "      <td>24.1</td>\n",
       "      <td>23.7</td>\n",
       "      <td>29.0</td>\n",
       "      <td>509.0</td>\n",
       "      <td>495.0</td>\n",
       "      <td>100.0</td>\n",
       "    </tr>\n",
       "    <tr>\n",
       "      <th>6</th>\n",
       "      <td>Connecticut</td>\n",
       "      <td>25.5</td>\n",
       "      <td>24.6</td>\n",
       "      <td>31.0</td>\n",
       "      <td>530.0</td>\n",
       "      <td>512.0</td>\n",
       "      <td>100.0</td>\n",
       "    </tr>\n",
       "    <tr>\n",
       "      <th>7</th>\n",
       "      <td>Delaware</td>\n",
       "      <td>24.1</td>\n",
       "      <td>23.4</td>\n",
       "      <td>18.0</td>\n",
       "      <td>503.0</td>\n",
       "      <td>492.0</td>\n",
       "      <td>100.0</td>\n",
       "    </tr>\n",
       "    <tr>\n",
       "      <th>29</th>\n",
       "      <td>New Hampshire</td>\n",
       "      <td>25.4</td>\n",
       "      <td>25.1</td>\n",
       "      <td>18.0</td>\n",
       "      <td>532.0</td>\n",
       "      <td>520.0</td>\n",
       "      <td>96.0</td>\n",
       "    </tr>\n",
       "  </tbody>\n",
       "</table>\n",
       "</div>"
      ],
      "text/plain": [
       "                   State  ACT_English  ACT_Math  ACT_Participate  SAT_English  \\\n",
       "8   District of Columbia         24.4      23.5             32.0        482.0   \n",
       "22              Michigan         24.1      23.7             29.0        509.0   \n",
       "6            Connecticut         25.5      24.6             31.0        530.0   \n",
       "7               Delaware         24.1      23.4             18.0        503.0   \n",
       "29         New Hampshire         25.4      25.1             18.0        532.0   \n",
       "\n",
       "    SAT_Math  SAT_Participate  \n",
       "8      468.0            100.0  \n",
       "22     495.0            100.0  \n",
       "6      512.0            100.0  \n",
       "7      492.0            100.0  \n",
       "29     520.0             96.0  "
      ]
     },
     "execution_count": 49,
     "metadata": {},
     "output_type": "execute_result"
    }
   ],
   "source": [
    "df_both.sort_values(['SAT_Participate'], ascending = False, inplace=True)\n",
    "df_both.head()"
   ]
  },
  {
   "cell_type": "markdown",
   "metadata": {},
   "source": [
    "##### 15. Use a boolean filter to display only observations with a score above a certain threshold (e.g. only states with a participation rate above 50%)"
   ]
  },
  {
   "cell_type": "code",
   "execution_count": 50,
   "metadata": {},
   "outputs": [
    {
     "data": {
      "text/html": [
       "<div>\n",
       "<style>\n",
       "    .dataframe thead tr:only-child th {\n",
       "        text-align: right;\n",
       "    }\n",
       "\n",
       "    .dataframe thead th {\n",
       "        text-align: left;\n",
       "    }\n",
       "\n",
       "    .dataframe tbody tr th {\n",
       "        vertical-align: top;\n",
       "    }\n",
       "</style>\n",
       "<table border=\"1\" class=\"dataframe\">\n",
       "  <thead>\n",
       "    <tr style=\"text-align: right;\">\n",
       "      <th></th>\n",
       "      <th>State</th>\n",
       "      <th>ACT_English</th>\n",
       "      <th>ACT_Math</th>\n",
       "      <th>ACT_Participate</th>\n",
       "      <th>SAT_English</th>\n",
       "      <th>SAT_Math</th>\n",
       "      <th>SAT_Participate</th>\n",
       "    </tr>\n",
       "  </thead>\n",
       "  <tbody>\n",
       "    <tr>\n",
       "      <th>8</th>\n",
       "      <td>District of Columbia</td>\n",
       "      <td>24.4</td>\n",
       "      <td>23.5</td>\n",
       "      <td>32.0</td>\n",
       "      <td>482.0</td>\n",
       "      <td>468.0</td>\n",
       "      <td>100.0</td>\n",
       "    </tr>\n",
       "    <tr>\n",
       "      <th>22</th>\n",
       "      <td>Michigan</td>\n",
       "      <td>24.1</td>\n",
       "      <td>23.7</td>\n",
       "      <td>29.0</td>\n",
       "      <td>509.0</td>\n",
       "      <td>495.0</td>\n",
       "      <td>100.0</td>\n",
       "    </tr>\n",
       "    <tr>\n",
       "      <th>6</th>\n",
       "      <td>Connecticut</td>\n",
       "      <td>25.5</td>\n",
       "      <td>24.6</td>\n",
       "      <td>31.0</td>\n",
       "      <td>530.0</td>\n",
       "      <td>512.0</td>\n",
       "      <td>100.0</td>\n",
       "    </tr>\n",
       "    <tr>\n",
       "      <th>7</th>\n",
       "      <td>Delaware</td>\n",
       "      <td>24.1</td>\n",
       "      <td>23.4</td>\n",
       "      <td>18.0</td>\n",
       "      <td>503.0</td>\n",
       "      <td>492.0</td>\n",
       "      <td>100.0</td>\n",
       "    </tr>\n",
       "    <tr>\n",
       "      <th>29</th>\n",
       "      <td>New Hampshire</td>\n",
       "      <td>25.4</td>\n",
       "      <td>25.1</td>\n",
       "      <td>18.0</td>\n",
       "      <td>532.0</td>\n",
       "      <td>520.0</td>\n",
       "      <td>96.0</td>\n",
       "    </tr>\n",
       "    <tr>\n",
       "      <th>19</th>\n",
       "      <td>Maine</td>\n",
       "      <td>24.2</td>\n",
       "      <td>24.0</td>\n",
       "      <td>8.0</td>\n",
       "      <td>513.0</td>\n",
       "      <td>499.0</td>\n",
       "      <td>95.0</td>\n",
       "    </tr>\n",
       "    <tr>\n",
       "      <th>12</th>\n",
       "      <td>Idaho</td>\n",
       "      <td>21.9</td>\n",
       "      <td>21.8</td>\n",
       "      <td>38.0</td>\n",
       "      <td>513.0</td>\n",
       "      <td>493.0</td>\n",
       "      <td>93.0</td>\n",
       "    </tr>\n",
       "    <tr>\n",
       "      <th>9</th>\n",
       "      <td>Florida</td>\n",
       "      <td>19.0</td>\n",
       "      <td>19.4</td>\n",
       "      <td>73.0</td>\n",
       "      <td>520.0</td>\n",
       "      <td>497.0</td>\n",
       "      <td>83.0</td>\n",
       "    </tr>\n",
       "    <tr>\n",
       "      <th>21</th>\n",
       "      <td>Massachusetts</td>\n",
       "      <td>25.4</td>\n",
       "      <td>25.3</td>\n",
       "      <td>29.0</td>\n",
       "      <td>555.0</td>\n",
       "      <td>551.0</td>\n",
       "      <td>76.0</td>\n",
       "    </tr>\n",
       "    <tr>\n",
       "      <th>39</th>\n",
       "      <td>Rhode Island</td>\n",
       "      <td>24.0</td>\n",
       "      <td>23.3</td>\n",
       "      <td>21.0</td>\n",
       "      <td>539.0</td>\n",
       "      <td>524.0</td>\n",
       "      <td>71.0</td>\n",
       "    </tr>\n",
       "    <tr>\n",
       "      <th>30</th>\n",
       "      <td>New Jersey</td>\n",
       "      <td>23.8</td>\n",
       "      <td>23.8</td>\n",
       "      <td>34.0</td>\n",
       "      <td>530.0</td>\n",
       "      <td>526.0</td>\n",
       "      <td>70.0</td>\n",
       "    </tr>\n",
       "    <tr>\n",
       "      <th>20</th>\n",
       "      <td>Maryland</td>\n",
       "      <td>23.3</td>\n",
       "      <td>23.1</td>\n",
       "      <td>28.0</td>\n",
       "      <td>536.0</td>\n",
       "      <td>524.0</td>\n",
       "      <td>69.0</td>\n",
       "    </tr>\n",
       "    <tr>\n",
       "      <th>32</th>\n",
       "      <td>New York</td>\n",
       "      <td>23.8</td>\n",
       "      <td>24.0</td>\n",
       "      <td>31.0</td>\n",
       "      <td>528.0</td>\n",
       "      <td>523.0</td>\n",
       "      <td>67.0</td>\n",
       "    </tr>\n",
       "    <tr>\n",
       "      <th>46</th>\n",
       "      <td>Virginia</td>\n",
       "      <td>23.5</td>\n",
       "      <td>23.3</td>\n",
       "      <td>29.0</td>\n",
       "      <td>561.0</td>\n",
       "      <td>541.0</td>\n",
       "      <td>65.0</td>\n",
       "    </tr>\n",
       "    <tr>\n",
       "      <th>38</th>\n",
       "      <td>Pennsylvania</td>\n",
       "      <td>23.4</td>\n",
       "      <td>23.4</td>\n",
       "      <td>23.0</td>\n",
       "      <td>540.0</td>\n",
       "      <td>531.0</td>\n",
       "      <td>65.0</td>\n",
       "    </tr>\n",
       "    <tr>\n",
       "      <th>47</th>\n",
       "      <td>Washington</td>\n",
       "      <td>20.9</td>\n",
       "      <td>21.9</td>\n",
       "      <td>29.0</td>\n",
       "      <td>541.0</td>\n",
       "      <td>534.0</td>\n",
       "      <td>64.0</td>\n",
       "    </tr>\n",
       "    <tr>\n",
       "      <th>14</th>\n",
       "      <td>Indiana</td>\n",
       "      <td>22.0</td>\n",
       "      <td>22.4</td>\n",
       "      <td>35.0</td>\n",
       "      <td>542.0</td>\n",
       "      <td>532.0</td>\n",
       "      <td>63.0</td>\n",
       "    </tr>\n",
       "    <tr>\n",
       "      <th>43</th>\n",
       "      <td>Texas</td>\n",
       "      <td>19.5</td>\n",
       "      <td>20.7</td>\n",
       "      <td>45.0</td>\n",
       "      <td>513.0</td>\n",
       "      <td>507.0</td>\n",
       "      <td>62.0</td>\n",
       "    </tr>\n",
       "    <tr>\n",
       "      <th>10</th>\n",
       "      <td>Georgia</td>\n",
       "      <td>21.0</td>\n",
       "      <td>20.9</td>\n",
       "      <td>55.0</td>\n",
       "      <td>535.0</td>\n",
       "      <td>515.0</td>\n",
       "      <td>61.0</td>\n",
       "    </tr>\n",
       "    <tr>\n",
       "      <th>45</th>\n",
       "      <td>Vermont</td>\n",
       "      <td>23.3</td>\n",
       "      <td>23.1</td>\n",
       "      <td>29.0</td>\n",
       "      <td>562.0</td>\n",
       "      <td>551.0</td>\n",
       "      <td>60.0</td>\n",
       "    </tr>\n",
       "    <tr>\n",
       "      <th>11</th>\n",
       "      <td>Hawaii</td>\n",
       "      <td>17.8</td>\n",
       "      <td>19.2</td>\n",
       "      <td>90.0</td>\n",
       "      <td>544.0</td>\n",
       "      <td>541.0</td>\n",
       "      <td>55.0</td>\n",
       "    </tr>\n",
       "    <tr>\n",
       "      <th>4</th>\n",
       "      <td>California</td>\n",
       "      <td>22.5</td>\n",
       "      <td>22.7</td>\n",
       "      <td>31.0</td>\n",
       "      <td>531.0</td>\n",
       "      <td>524.0</td>\n",
       "      <td>53.0</td>\n",
       "    </tr>\n",
       "  </tbody>\n",
       "</table>\n",
       "</div>"
      ],
      "text/plain": [
       "                   State  ACT_English  ACT_Math  ACT_Participate  SAT_English  \\\n",
       "8   District of Columbia         24.4      23.5             32.0        482.0   \n",
       "22              Michigan         24.1      23.7             29.0        509.0   \n",
       "6            Connecticut         25.5      24.6             31.0        530.0   \n",
       "7               Delaware         24.1      23.4             18.0        503.0   \n",
       "29         New Hampshire         25.4      25.1             18.0        532.0   \n",
       "19                 Maine         24.2      24.0              8.0        513.0   \n",
       "12                 Idaho         21.9      21.8             38.0        513.0   \n",
       "9                Florida         19.0      19.4             73.0        520.0   \n",
       "21         Massachusetts         25.4      25.3             29.0        555.0   \n",
       "39          Rhode Island         24.0      23.3             21.0        539.0   \n",
       "30            New Jersey         23.8      23.8             34.0        530.0   \n",
       "20              Maryland         23.3      23.1             28.0        536.0   \n",
       "32              New York         23.8      24.0             31.0        528.0   \n",
       "46              Virginia         23.5      23.3             29.0        561.0   \n",
       "38          Pennsylvania         23.4      23.4             23.0        540.0   \n",
       "47            Washington         20.9      21.9             29.0        541.0   \n",
       "14               Indiana         22.0      22.4             35.0        542.0   \n",
       "43                 Texas         19.5      20.7             45.0        513.0   \n",
       "10               Georgia         21.0      20.9             55.0        535.0   \n",
       "45               Vermont         23.3      23.1             29.0        562.0   \n",
       "11                Hawaii         17.8      19.2             90.0        544.0   \n",
       "4             California         22.5      22.7             31.0        531.0   \n",
       "\n",
       "    SAT_Math  SAT_Participate  \n",
       "8      468.0            100.0  \n",
       "22     495.0            100.0  \n",
       "6      512.0            100.0  \n",
       "7      492.0            100.0  \n",
       "29     520.0             96.0  \n",
       "19     499.0             95.0  \n",
       "12     493.0             93.0  \n",
       "9      497.0             83.0  \n",
       "21     551.0             76.0  \n",
       "39     524.0             71.0  \n",
       "30     526.0             70.0  \n",
       "20     524.0             69.0  \n",
       "32     523.0             67.0  \n",
       "46     541.0             65.0  \n",
       "38     531.0             65.0  \n",
       "47     534.0             64.0  \n",
       "14     532.0             63.0  \n",
       "43     507.0             62.0  \n",
       "10     515.0             61.0  \n",
       "45     551.0             60.0  \n",
       "11     541.0             55.0  \n",
       "4      524.0             53.0  "
      ]
     },
     "execution_count": 50,
     "metadata": {},
     "output_type": "execute_result"
    }
   ],
   "source": [
    "df_both[df_both['SAT_Participate']>50]"
   ]
  },
  {
   "cell_type": "markdown",
   "metadata": {},
   "source": [
    "## Step 3: Visualize the data"
   ]
  },
  {
   "cell_type": "markdown",
   "metadata": {
    "collapsed": true
   },
   "source": [
    "##### 16. Using MatPlotLib and PyPlot, plot the distribution of the Rate columns for both SAT and ACT using histograms. (You should have two histograms. You might find [this link](https://matplotlib.org/users/pyplot_tutorial.html#working-with-multiple-figures-and-axes) helpful in organizing one plot above the other.) "
   ]
  },
  {
   "cell_type": "code",
   "execution_count": 51,
   "metadata": {
    "collapsed": true
   },
   "outputs": [],
   "source": [
    "# display plots in the notebook\n",
    "%matplotlib inline"
   ]
  },
  {
   "cell_type": "code",
   "execution_count": 52,
   "metadata": {},
   "outputs": [
    {
     "data": {
      "image/png": "[encoded data removed]",
      "text/plain": [
       "<matplotlib.figure.Figure at 0x108cc9358>"
      ]
     },
     "metadata": {},
     "output_type": "display_data"
    }
   ],
   "source": [
    "# Histogram of SAT participation\n",
    "import matplotlib.pyplot as plt; plt.rcdefaults()\n",
    "import numpy as np\n",
    "import matplotlib.pyplot as plt\n",
    "y_pos = np.arange(len(df_both.State))\n",
    " \n",
    "plt.bar(y_pos, df_both.SAT_Participate, align='center', alpha=0.5)\n",
    "plt.xticks(y_pos, df_both.State)\n",
    "plt.ylabel('Percentage of students who took the test')\n",
    "plt.title('SAT participation, by state')\n",
    " \n",
    "plt.show()"
   ]
  },
  {
   "cell_type": "code",
   "execution_count": 53,
   "metadata": {},
   "outputs": [
    {
     "name": "stderr",
     "output_type": "stream",
     "text": [
      "/Users/austinlasseter/anaconda3/lib/python3.6/site-packages/ipykernel_launcher.py:2: SettingWithCopyWarning: \n",
      "A value is trying to be set on a copy of a slice from a DataFrame\n",
      "\n",
      "See the caveats in the documentation: http://pandas.pydata.org/pandas-docs/stable/indexing.html#indexing-view-versus-copy\n",
      "  \n"
     ]
    },
    {
     "data": {
      "image/png": "[encoded data removed]",
      "text/plain": [
       "<matplotlib.figure.Figure at 0x103e75940>"
      ]
     },
     "metadata": {},
     "output_type": "display_data"
    }
   ],
   "source": [
    "# For the ACT, first we need to sort the states by participation:\n",
    "df_both.sort_values(['ACT_Participate'], ascending = False, inplace=True)\n",
    "\n",
    "# Then generate the histogram\n",
    "y_pos = np.arange(len(df_both.State))\n",
    " \n",
    "plt.bar(y_pos, df_both.ACT_Participate, align='center', alpha=0.5)\n",
    "plt.xticks(y_pos, df_both.State)\n",
    "plt.ylabel('Percentage of students who took the test')\n",
    "plt.title('act participation, by state')\n",
    " \n",
    "plt.show()"
   ]
  },
  {
   "cell_type": "markdown",
   "metadata": {},
   "source": [
    "##### 17. Plot the Math(s) distributions from both data sets."
   ]
  },
  {
   "cell_type": "code",
   "execution_count": 54,
   "metadata": {},
   "outputs": [
    {
     "name": "stderr",
     "output_type": "stream",
     "text": [
      "/Users/austinlasseter/anaconda3/lib/python3.6/site-packages/ipykernel_launcher.py:2: SettingWithCopyWarning: \n",
      "A value is trying to be set on a copy of a slice from a DataFrame\n",
      "\n",
      "See the caveats in the documentation: http://pandas.pydata.org/pandas-docs/stable/indexing.html#indexing-view-versus-copy\n",
      "  \n"
     ]
    },
    {
     "data": {
      "image/png": "[encoded data removed]",
      "text/plain": [
       "<matplotlib.figure.Figure at 0x104640ba8>"
      ]
     },
     "metadata": {},
     "output_type": "display_data"
    }
   ],
   "source": [
    "# For the SAT, first we need to sort the states by MATH:\n",
    "df_both.sort_values(['ACT_Math'], ascending = False, inplace=True)\n",
    "\n",
    "# Then generate the histogram\n",
    "y_pos = np.arange(len(df_both.State))\n",
    " \n",
    "plt.bar(y_pos, df_both.ACT_Math, align='center', alpha=0.5)\n",
    "plt.xticks(y_pos, df_both.State)\n",
    "plt.ylabel('Scores')\n",
    "plt.title('ACT Math tests, by state')\n",
    " \n",
    "plt.show()"
   ]
  },
  {
   "cell_type": "code",
   "execution_count": 55,
   "metadata": {},
   "outputs": [
    {
     "name": "stderr",
     "output_type": "stream",
     "text": [
      "/Users/austinlasseter/anaconda3/lib/python3.6/site-packages/ipykernel_launcher.py:2: SettingWithCopyWarning: \n",
      "A value is trying to be set on a copy of a slice from a DataFrame\n",
      "\n",
      "See the caveats in the documentation: http://pandas.pydata.org/pandas-docs/stable/indexing.html#indexing-view-versus-copy\n",
      "  \n"
     ]
    },
    {
     "data": {
      "image/png": "[encoded data removed]",
      "text/plain": [
       "<matplotlib.figure.Figure at 0x1040dc780>"
      ]
     },
     "metadata": {},
     "output_type": "display_data"
    }
   ],
   "source": [
    "# For the ACT, first we need to sort the states by MATH:\n",
    "df_both.sort_values(['ACT_Math'], ascending = False, inplace=True)\n",
    "\n",
    "# Then generate the histogram\n",
    "y_pos = np.arange(len(df_both.State))\n",
    " \n",
    "plt.bar(y_pos, df_both.ACT_Math, align='center', alpha=0.5)\n",
    "plt.xticks(y_pos, df_both.State)\n",
    "plt.ylabel('Scores')\n",
    "plt.title('ACT Math tests, by state')\n",
    " \n",
    "plt.show()"
   ]
  },
  {
   "cell_type": "markdown",
   "metadata": {},
   "source": [
    "##### 18. Plot the Verbal distributions from both data sets."
   ]
  },
  {
   "cell_type": "code",
   "execution_count": 56,
   "metadata": {},
   "outputs": [
    {
     "name": "stderr",
     "output_type": "stream",
     "text": [
      "/Users/austinlasseter/anaconda3/lib/python3.6/site-packages/ipykernel_launcher.py:2: SettingWithCopyWarning: \n",
      "A value is trying to be set on a copy of a slice from a DataFrame\n",
      "\n",
      "See the caveats in the documentation: http://pandas.pydata.org/pandas-docs/stable/indexing.html#indexing-view-versus-copy\n",
      "  \n"
     ]
    },
    {
     "data": {
      "image/png": "[encoded data removed]",
      "text/plain": [
       "<matplotlib.figure.Figure at 0x102f21ac8>"
      ]
     },
     "metadata": {},
     "output_type": "display_data"
    }
   ],
   "source": [
    "# For the ACT, first we need to sort the states by Reading:\n",
    "df_both.sort_values(['ACT_English'], ascending = False, inplace=True)\n",
    "\n",
    "# Then generate the histogram\n",
    "y_pos = np.arange(len(df_both.State))\n",
    " \n",
    "plt.bar(y_pos, df_both.ACT_English, align='center', alpha=0.5)\n",
    "plt.xticks(y_pos, df_both.State)\n",
    "plt.ylabel('Scores')\n",
    "plt.title('ACT English tests, by state')\n",
    " \n",
    "plt.show()"
   ]
  },
  {
   "cell_type": "code",
   "execution_count": 57,
   "metadata": {},
   "outputs": [
    {
     "name": "stderr",
     "output_type": "stream",
     "text": [
      "/Users/austinlasseter/anaconda3/lib/python3.6/site-packages/ipykernel_launcher.py:2: SettingWithCopyWarning: \n",
      "A value is trying to be set on a copy of a slice from a DataFrame\n",
      "\n",
      "See the caveats in the documentation: http://pandas.pydata.org/pandas-docs/stable/indexing.html#indexing-view-versus-copy\n",
      "  \n"
     ]
    },
    {
     "data": {
      "image/png": "[encoded data removed]",
      "text/plain": [
       "<matplotlib.figure.Figure at 0x10833ed68>"
      ]
     },
     "metadata": {},
     "output_type": "display_data"
    }
   ],
   "source": [
    "# For the SAT, first we need to sort the states by Reading:\n",
    "df_both.sort_values(['SAT_English'], ascending = False, inplace=True)\n",
    "\n",
    "# Then generate the histogram\n",
    "y_pos = np.arange(len(df_both.State))\n",
    " \n",
    "plt.bar(y_pos, df_both.SAT_English, align='center', alpha=0.5)\n",
    "plt.xticks(y_pos, df_both.State)\n",
    "plt.ylabel('Scores')\n",
    "plt.title('ACT English tests, by state')\n",
    " \n",
    "plt.show()"
   ]
  },
  {
   "cell_type": "markdown",
   "metadata": {},
   "source": [
    "##### 19. When we make assumptions about how data are distributed, what is the most common assumption?"
   ]
  },
  {
   "cell_type": "code",
   "execution_count": 58,
   "metadata": {
    "collapsed": true
   },
   "outputs": [],
   "source": [
    "# That the data are normally distributed"
   ]
  },
  {
   "cell_type": "markdown",
   "metadata": {},
   "source": [
    "##### 20. Does this assumption hold true for any of our columns? Which?"
   ]
  },
  {
   "cell_type": "code",
   "execution_count": 59,
   "metadata": {
    "collapsed": true
   },
   "outputs": [],
   "source": [
    "# No, it does not."
   ]
  },
  {
   "cell_type": "markdown",
   "metadata": {},
   "source": [
    "##### 21. Plot some scatterplots examining relationships between all variables."
   ]
  },
  {
   "cell_type": "code",
   "execution_count": 60,
   "metadata": {},
   "outputs": [
    {
     "data": {
      "image/png": "[encoded data removed]",
      "text/plain": [
       "<matplotlib.figure.Figure at 0x10df038d0>"
      ]
     },
     "metadata": {},
     "output_type": "display_data"
    }
   ],
   "source": [
    "# As participation goes up, English scores go down!\n",
    "df_both.plot(x='SAT_Participate',y='SAT_English',kind='scatter')\n",
    "plt.show()"
   ]
  },
  {
   "cell_type": "code",
   "execution_count": 61,
   "metadata": {},
   "outputs": [
    {
     "data": {
      "image/png": "[encoded data removed]",
      "text/plain": [
       "<matplotlib.figure.Figure at 0x108cb4940>"
      ]
     },
     "metadata": {},
     "output_type": "display_data"
    }
   ],
   "source": [
    "# Also true in Math\n",
    "df_both.plot(x='SAT_Participate',y='SAT_Math',kind='scatter')\n",
    "plt.show()"
   ]
  },
  {
   "cell_type": "code",
   "execution_count": 62,
   "metadata": {},
   "outputs": [
    {
     "data": {
      "image/png": "[encoded data removed]",
      "text/plain": [
       "<matplotlib.figure.Figure at 0x10def1e48>"
      ]
     },
     "metadata": {},
     "output_type": "display_data"
    }
   ],
   "source": [
    "# Even more noticeable on the ACT English\n",
    "df_both.plot(x='ACT_Participate',y='ACT_English',kind='scatter')\n",
    "plt.show()"
   ]
  },
  {
   "cell_type": "code",
   "execution_count": 63,
   "metadata": {},
   "outputs": [
    {
     "data": {
      "image/png": "[encoded data removed]",
      "text/plain": [
       "<matplotlib.figure.Figure at 0x10dfb45f8>"
      ]
     },
     "metadata": {},
     "output_type": "display_data"
    }
   ],
   "source": [
    "# ACT Math is worst of all\n",
    "df_both.plot(x='ACT_Participate',y='ACT_Math',kind='scatter')\n",
    "plt.show()"
   ]
  },
  {
   "cell_type": "code",
   "execution_count": 64,
   "metadata": {},
   "outputs": [
    {
     "data": {
      "text/html": [
       "<div>\n",
       "<style>\n",
       "    .dataframe thead tr:only-child th {\n",
       "        text-align: right;\n",
       "    }\n",
       "\n",
       "    .dataframe thead th {\n",
       "        text-align: left;\n",
       "    }\n",
       "\n",
       "    .dataframe tbody tr th {\n",
       "        vertical-align: top;\n",
       "    }\n",
       "</style>\n",
       "<table border=\"1\" class=\"dataframe\">\n",
       "  <thead>\n",
       "    <tr style=\"text-align: right;\">\n",
       "      <th></th>\n",
       "      <th>English</th>\n",
       "      <th>Math</th>\n",
       "      <th>Participate</th>\n",
       "    </tr>\n",
       "  </thead>\n",
       "  <tbody>\n",
       "    <tr>\n",
       "      <th>English</th>\n",
       "      <td>1.000000</td>\n",
       "      <td>0.987056</td>\n",
       "      <td>-0.874326</td>\n",
       "    </tr>\n",
       "    <tr>\n",
       "      <th>Math</th>\n",
       "      <td>0.987056</td>\n",
       "      <td>1.000000</td>\n",
       "      <td>-0.855091</td>\n",
       "    </tr>\n",
       "    <tr>\n",
       "      <th>Participate</th>\n",
       "      <td>-0.874326</td>\n",
       "      <td>-0.855091</td>\n",
       "      <td>1.000000</td>\n",
       "    </tr>\n",
       "  </tbody>\n",
       "</table>\n",
       "</div>"
      ],
      "text/plain": [
       "              English      Math  Participate\n",
       "English      1.000000  0.987056    -0.874326\n",
       "Math         0.987056  1.000000    -0.855091\n",
       "Participate -0.874326 -0.855091     1.000000"
      ]
     },
     "execution_count": 64,
     "metadata": {},
     "output_type": "execute_result"
    }
   ],
   "source": [
    "df_sat.corr(method='pearson', min_periods=1)"
   ]
  },
  {
   "cell_type": "code",
   "execution_count": 65,
   "metadata": {},
   "outputs": [
    {
     "data": {
      "text/html": [
       "<div>\n",
       "<style>\n",
       "    .dataframe thead tr:only-child th {\n",
       "        text-align: right;\n",
       "    }\n",
       "\n",
       "    .dataframe thead th {\n",
       "        text-align: left;\n",
       "    }\n",
       "\n",
       "    .dataframe tbody tr th {\n",
       "        vertical-align: top;\n",
       "    }\n",
       "</style>\n",
       "<table border=\"1\" class=\"dataframe\">\n",
       "  <thead>\n",
       "    <tr style=\"text-align: right;\">\n",
       "      <th></th>\n",
       "      <th>English</th>\n",
       "      <th>Math</th>\n",
       "      <th>Participate</th>\n",
       "    </tr>\n",
       "  </thead>\n",
       "  <tbody>\n",
       "    <tr>\n",
       "      <th>English</th>\n",
       "      <td>1.000000</td>\n",
       "      <td>0.967803</td>\n",
       "      <td>-0.843501</td>\n",
       "    </tr>\n",
       "    <tr>\n",
       "      <th>Math</th>\n",
       "      <td>0.967803</td>\n",
       "      <td>1.000000</td>\n",
       "      <td>-0.861114</td>\n",
       "    </tr>\n",
       "    <tr>\n",
       "      <th>Participate</th>\n",
       "      <td>-0.843501</td>\n",
       "      <td>-0.861114</td>\n",
       "      <td>1.000000</td>\n",
       "    </tr>\n",
       "  </tbody>\n",
       "</table>\n",
       "</div>"
      ],
      "text/plain": [
       "              English      Math  Participate\n",
       "English      1.000000  0.967803    -0.843501\n",
       "Math         0.967803  1.000000    -0.861114\n",
       "Participate -0.843501 -0.861114     1.000000"
      ]
     },
     "execution_count": 65,
     "metadata": {},
     "output_type": "execute_result"
    }
   ],
   "source": [
    "df_act.corr(method='pearson', min_periods=1)"
   ]
  },
  {
   "cell_type": "code",
   "execution_count": 66,
   "metadata": {},
   "outputs": [
    {
     "name": "stdout",
     "output_type": "stream",
     "text": [
      "              English      Math  Participate\n",
      "English      1.000000  0.987056    -0.874326\n",
      "Math         0.987056  1.000000    -0.855091\n",
      "Participate -0.874326 -0.855091     1.000000\n",
      "              English      Math  Participate\n",
      "English      1.000000  0.967803    -0.843501\n",
      "Math         0.967803  1.000000    -0.861114\n",
      "Participate -0.843501 -0.861114     1.000000\n"
     ]
    }
   ],
   "source": [
    "# Let's run a correlation table and see which are the highest with participation:\n",
    "print(df_sat.corr(method='pearson', min_periods=1))\n",
    "print(df_act.corr(method='pearson', min_periods=1))\n",
    "# Yeah, Math and Reading scores are negatively correlated with participation, and it's about .84!\n",
    "# Math and Reading are highly correlated with each other (in a positive direction)"
   ]
  },
  {
   "cell_type": "markdown",
   "metadata": {},
   "source": [
    "##### 22. Are there any interesting relationships to note?"
   ]
  },
  {
   "cell_type": "code",
   "execution_count": 67,
   "metadata": {
    "collapsed": true
   },
   "outputs": [],
   "source": [
    "# Yes. Increased participation results in decreased average performance."
   ]
  },
  {
   "cell_type": "markdown",
   "metadata": {},
   "source": [
    "##### 23. Create box plots for each variable. "
   ]
  },
  {
   "cell_type": "code",
   "execution_count": 68,
   "metadata": {},
   "outputs": [
    {
     "data": {
      "text/plain": [
       "Index(['State', 'ACT_English', 'ACT_Math', 'ACT_Participate', 'SAT_English',\n",
       "       'SAT_Math', 'SAT_Participate'],\n",
       "      dtype='object')"
      ]
     },
     "execution_count": 68,
     "metadata": {},
     "output_type": "execute_result"
    }
   ],
   "source": [
    "df_both.columns"
   ]
  },
  {
   "cell_type": "code",
   "execution_count": 69,
   "metadata": {
    "collapsed": true
   },
   "outputs": [],
   "source": [
    "#df_both.drop(['SAT_English', 'SAT_Math', 'SAT_Participate'], axis=1, inplace=True)"
   ]
  },
  {
   "cell_type": "code",
   "execution_count": 70,
   "metadata": {},
   "outputs": [
    {
     "data": {
      "image/png": "[encoded data removed]",
      "text/plain": [
       "<matplotlib.figure.Figure at 0x10e596668>"
      ]
     },
     "metadata": {},
     "output_type": "display_data"
    },
    {
     "data": {
      "image/png": "[encoded data removed]",
      "text/plain": [
       "<matplotlib.figure.Figure at 0x10e596358>"
      ]
     },
     "metadata": {},
     "output_type": "display_data"
    },
    {
     "data": {
      "image/png": "[encoded data removed]",
      "text/plain": [
       "<matplotlib.figure.Figure at 0x10e740e80>"
      ]
     },
     "metadata": {},
     "output_type": "display_data"
    }
   ],
   "source": [
    "# How about just for the variables that have comparable scales:\n",
    "df_both.drop(['SAT_English', 'SAT_Math', 'SAT_Participate', 'ACT_Participate'],axis=1).plot(kind='box')\n",
    "df_both.drop(['ACT_English', 'ACT_Math', 'SAT_Participate', 'ACT_Participate'],axis=1).plot(kind='box')\n",
    "df_both.drop(['ACT_English', 'ACT_Math', 'SAT_English', 'SAT_Math',],axis=1).plot(kind='box')\n",
    "\n",
    "plt.show()"
   ]
  },
  {
   "cell_type": "markdown",
   "metadata": {},
   "source": [
    "##### BONUS: Using Tableau, create a heat map for each variable using a map of the US. "
   ]
  },
  {
   "cell_type": "code",
   "execution_count": null,
   "metadata": {
    "collapsed": true
   },
   "outputs": [],
   "source": []
  },
  {
   "cell_type": "markdown",
   "metadata": {},
   "source": [
    "## Step 4: Descriptive and Inferential Statistics"
   ]
  },
  {
   "cell_type": "markdown",
   "metadata": {},
   "source": [
    "##### 24. Summarize each distribution. As data scientists, be sure to back up these summaries with statistics. (Hint: What are the three things we care about when describing distributions?)"
   ]
  },
  {
   "cell_type": "code",
   "execution_count": 71,
   "metadata": {},
   "outputs": [
    {
     "name": "stdout",
     "output_type": "stream",
     "text": [
      "ACT_English         20.931373\n",
      "ACT_Math            21.182353\n",
      "ACT_Participate     65.254902\n",
      "SAT_English        569.117647\n",
      "SAT_Math           556.882353\n",
      "SAT_Participate     39.803922\n",
      "dtype: float64\n",
      "ACT_English         2.353677\n",
      "ACT_Math            1.981989\n",
      "ACT_Participate    32.140842\n",
      "SAT_English        45.666901\n",
      "SAT_Math           47.121395\n",
      "SAT_Participate    35.276632\n",
      "dtype: float64\n"
     ]
    }
   ],
   "source": [
    "# Center, shape and spread\n",
    "print(df_both.mean())\n",
    "print(df_both.std())\n",
    "# None of the histograms looked normal.\n",
    "# The ACT has a much higher participation rate than the SAT"
   ]
  },
  {
   "cell_type": "markdown",
   "metadata": {},
   "source": [
    "##### 25. Summarize each relationship. Be sure to back up these summaries with statistics."
   ]
  },
  {
   "cell_type": "code",
   "execution_count": 72,
   "metadata": {
    "collapsed": true
   },
   "outputs": [],
   "source": [
    "# As we saw with the correlation table above:\n",
    "# Math and Reading scores are negatively correlated with participation, and it's about .84!\n",
    "# Math and Reading are highly correlated with each other (in a positive direction)"
   ]
  },
  {
   "cell_type": "markdown",
   "metadata": {},
   "source": [
    "##### 26. Execute a hypothesis test comparing the SAT and ACT participation rates. Use $\\alpha = 0.05$. Be sure to interpret your results."
   ]
  },
  {
   "cell_type": "code",
   "execution_count": 73,
   "metadata": {},
   "outputs": [
    {
     "data": {
      "text/plain": [
       "Ttest_indResult(statistic=-3.8085778908170544, pvalue=0.00024134203698662353)"
      ]
     },
     "execution_count": 73,
     "metadata": {},
     "output_type": "execute_result"
    }
   ],
   "source": [
    "import scipy.stats as stats\n",
    "import numpy as np\n",
    "stats.ttest_ind(df_both.SAT_Participate,df_both.ACT_Participate)\n",
    "# The p-value is very low (well below .05) \n",
    "# so we reject the null hypothesis (the means are identical)\n",
    "# we accept the alt hypothesis (mean ACT and SAT participation rates are different)"
   ]
  },
  {
   "cell_type": "markdown",
   "metadata": {},
   "source": [
    "##### 27. Generate and interpret 95% confidence intervals for SAT and ACT participation rates."
   ]
  },
  {
   "cell_type": "code",
   "execution_count": 74,
   "metadata": {},
   "outputs": [
    {
     "data": {
      "text/plain": [
       "(-29.337007176461576, 108.94485031371647)"
      ]
     },
     "execution_count": 74,
     "metadata": {},
     "output_type": "execute_result"
    }
   ],
   "source": [
    "# SAT:\n",
    "stats.norm.interval(0.95, loc=df_both.SAT_Participate.mean(), scale=df_both.SAT_Participate.std())\n",
    "# We 95% confident that the true mean exists somewhere between these values."
   ]
  },
  {
   "cell_type": "code",
   "execution_count": 75,
   "metadata": {},
   "outputs": [
    {
     "data": {
      "text/plain": [
       "(2.260009176854382, 128.24979474471422)"
      ]
     },
     "execution_count": 75,
     "metadata": {},
     "output_type": "execute_result"
    }
   ],
   "source": [
    "# ACT:\n",
    "stats.norm.interval(0.95, loc=df_both.ACT_Participate.mean(), scale=df_both.ACT_Participate.std())\n",
    "# We 95% confident that the true mean exists somewhere between these values."
   ]
  },
  {
   "cell_type": "code",
   "execution_count": 76,
   "metadata": {
    "collapsed": true
   },
   "outputs": [],
   "source": [
    "# Actually, these intervals don't make any sense but it' s 3:15 in the morning so I'll figure it out later"
   ]
  },
  {
   "cell_type": "markdown",
   "metadata": {},
   "source": [
    "##### 28. Given your answer to 26, was your answer to 27 surprising? Why?"
   ]
  },
  {
   "cell_type": "code",
   "execution_count": 77,
   "metadata": {
    "collapsed": true
   },
   "outputs": [],
   "source": [
    "# Well, I expected them to give essentially the same results but they didn't.\n",
    "# I think that's because I generated the Conf Intervals incorrectly."
   ]
  },
  {
   "cell_type": "markdown",
   "metadata": {},
   "source": [
    "##### 29. Is it appropriate to generate correlation between SAT and ACT math scores? Why?"
   ]
  },
  {
   "cell_type": "code",
   "execution_count": 78,
   "metadata": {
    "collapsed": true
   },
   "outputs": [],
   "source": [
    "# Yes. They are correlated at rho=-0.42. This is not a very strong correlation (below .5) - see below.\n",
    "# but indicates that when a state scores higher on SAT, their average ACT score drops.\n",
    "# This is possibly due to self-selection of high (or low) scoring students into one or the other test."
   ]
  },
  {
   "cell_type": "markdown",
   "metadata": {},
   "source": [
    "##### 30. Suppose we only seek to understand the relationship between SAT and ACT data in 2017. Does it make sense to conduct statistical inference given the data we have? Why?"
   ]
  },
  {
   "cell_type": "code",
   "execution_count": 79,
   "metadata": {},
   "outputs": [
    {
     "data": {
      "text/html": [
       "<div>\n",
       "<style>\n",
       "    .dataframe thead tr:only-child th {\n",
       "        text-align: right;\n",
       "    }\n",
       "\n",
       "    .dataframe thead th {\n",
       "        text-align: left;\n",
       "    }\n",
       "\n",
       "    .dataframe tbody tr th {\n",
       "        vertical-align: top;\n",
       "    }\n",
       "</style>\n",
       "<table border=\"1\" class=\"dataframe\">\n",
       "  <thead>\n",
       "    <tr style=\"text-align: right;\">\n",
       "      <th></th>\n",
       "      <th>ACT_English</th>\n",
       "      <th>ACT_Math</th>\n",
       "      <th>ACT_Participate</th>\n",
       "      <th>SAT_English</th>\n",
       "      <th>SAT_Math</th>\n",
       "      <th>SAT_Participate</th>\n",
       "    </tr>\n",
       "  </thead>\n",
       "  <tbody>\n",
       "    <tr>\n",
       "      <th>ACT_English</th>\n",
       "      <td>1.000000</td>\n",
       "      <td>0.967803</td>\n",
       "      <td>-0.843501</td>\n",
       "      <td>-0.461345</td>\n",
       "      <td>-0.420673</td>\n",
       "      <td>0.686889</td>\n",
       "    </tr>\n",
       "    <tr>\n",
       "      <th>ACT_Math</th>\n",
       "      <td>0.967803</td>\n",
       "      <td>1.000000</td>\n",
       "      <td>-0.861114</td>\n",
       "      <td>-0.486126</td>\n",
       "      <td>-0.420456</td>\n",
       "      <td>0.710697</td>\n",
       "    </tr>\n",
       "    <tr>\n",
       "      <th>ACT_Participate</th>\n",
       "      <td>-0.843501</td>\n",
       "      <td>-0.861114</td>\n",
       "      <td>1.000000</td>\n",
       "      <td>0.716153</td>\n",
       "      <td>0.682572</td>\n",
       "      <td>-0.841234</td>\n",
       "    </tr>\n",
       "    <tr>\n",
       "      <th>SAT_English</th>\n",
       "      <td>-0.461345</td>\n",
       "      <td>-0.486126</td>\n",
       "      <td>0.716153</td>\n",
       "      <td>1.000000</td>\n",
       "      <td>0.987056</td>\n",
       "      <td>-0.874326</td>\n",
       "    </tr>\n",
       "    <tr>\n",
       "      <th>SAT_Math</th>\n",
       "      <td>-0.420673</td>\n",
       "      <td>-0.420456</td>\n",
       "      <td>0.682572</td>\n",
       "      <td>0.987056</td>\n",
       "      <td>1.000000</td>\n",
       "      <td>-0.855091</td>\n",
       "    </tr>\n",
       "    <tr>\n",
       "      <th>SAT_Participate</th>\n",
       "      <td>0.686889</td>\n",
       "      <td>0.710697</td>\n",
       "      <td>-0.841234</td>\n",
       "      <td>-0.874326</td>\n",
       "      <td>-0.855091</td>\n",
       "      <td>1.000000</td>\n",
       "    </tr>\n",
       "  </tbody>\n",
       "</table>\n",
       "</div>"
      ],
      "text/plain": [
       "                 ACT_English  ACT_Math  ACT_Participate  SAT_English  \\\n",
       "ACT_English         1.000000  0.967803        -0.843501    -0.461345   \n",
       "ACT_Math            0.967803  1.000000        -0.861114    -0.486126   \n",
       "ACT_Participate    -0.843501 -0.861114         1.000000     0.716153   \n",
       "SAT_English        -0.461345 -0.486126         0.716153     1.000000   \n",
       "SAT_Math           -0.420673 -0.420456         0.682572     0.987056   \n",
       "SAT_Participate     0.686889  0.710697        -0.841234    -0.874326   \n",
       "\n",
       "                 SAT_Math  SAT_Participate  \n",
       "ACT_English     -0.420673         0.686889  \n",
       "ACT_Math        -0.420456         0.710697  \n",
       "ACT_Participate  0.682572        -0.841234  \n",
       "SAT_English      0.987056        -0.874326  \n",
       "SAT_Math         1.000000        -0.855091  \n",
       "SAT_Participate -0.855091         1.000000  "
      ]
     },
     "execution_count": 79,
     "metadata": {},
     "output_type": "execute_result"
    }
   ],
   "source": [
    "# Yes, I think their participation rates are correlated by state because students will take\n",
    "# either one or the other but not both.\n",
    "df_both.corr(method='pearson', min_periods=1)"
   ]
  },
  {
   "cell_type": "code",
   "execution_count": 84,
   "metadata": {},
   "outputs": [
    {
     "data": {
      "image/png": "[encoded data removed]",
      "text/plain": [
       "<matplotlib.figure.Figure at 0x10decfeb8>"
      ]
     },
     "metadata": {},
     "output_type": "display_data"
    }
   ],
   "source": [
    "n = 51\n",
    "x=df_both['SAT_Participate']\n",
    "y=df_both['ACT_Participate']\n",
    "\n",
    "fig, ax = plt.subplots()\n",
    "fit = np.polyfit(x, y, deg=1)\n",
    "ax.plot(x, fit[0] * x + fit[1], color='red')\n",
    "ax.scatter(x, y)\n",
    "plt.title(\"Correlation of SAT and ACT\")\n",
    "plt.xlabel(\"SAT participation\")\n",
    "plt.ylabel(\"ACT participation\")\n",
    "plt.show()"
   ]
  },
  {
   "cell_type": "code",
   "execution_count": 85,
   "metadata": {
    "scrolled": true
   },
   "outputs": [
    {
     "data": {
      "text/html": [
       "<div>\n",
       "<style>\n",
       "    .dataframe thead tr:only-child th {\n",
       "        text-align: right;\n",
       "    }\n",
       "\n",
       "    .dataframe thead th {\n",
       "        text-align: left;\n",
       "    }\n",
       "\n",
       "    .dataframe tbody tr th {\n",
       "        vertical-align: top;\n",
       "    }\n",
       "</style>\n",
       "<table border=\"1\" class=\"dataframe\">\n",
       "  <thead>\n",
       "    <tr style=\"text-align: right;\">\n",
       "      <th></th>\n",
       "      <th>State</th>\n",
       "      <th>ACT_English</th>\n",
       "      <th>ACT_Math</th>\n",
       "      <th>ACT_Participate</th>\n",
       "      <th>SAT_English</th>\n",
       "      <th>SAT_Math</th>\n",
       "      <th>SAT_Participate</th>\n",
       "    </tr>\n",
       "  </thead>\n",
       "  <tbody>\n",
       "    <tr>\n",
       "      <th>8</th>\n",
       "      <td>District of Columbia</td>\n",
       "      <td>24.4</td>\n",
       "      <td>23.5</td>\n",
       "      <td>32.0</td>\n",
       "      <td>482.0</td>\n",
       "      <td>468.0</td>\n",
       "      <td>100.0</td>\n",
       "    </tr>\n",
       "    <tr>\n",
       "      <th>7</th>\n",
       "      <td>Delaware</td>\n",
       "      <td>24.1</td>\n",
       "      <td>23.4</td>\n",
       "      <td>18.0</td>\n",
       "      <td>503.0</td>\n",
       "      <td>492.0</td>\n",
       "      <td>100.0</td>\n",
       "    </tr>\n",
       "    <tr>\n",
       "      <th>22</th>\n",
       "      <td>Michigan</td>\n",
       "      <td>24.1</td>\n",
       "      <td>23.7</td>\n",
       "      <td>29.0</td>\n",
       "      <td>509.0</td>\n",
       "      <td>495.0</td>\n",
       "      <td>100.0</td>\n",
       "    </tr>\n",
       "    <tr>\n",
       "      <th>6</th>\n",
       "      <td>Connecticut</td>\n",
       "      <td>25.5</td>\n",
       "      <td>24.6</td>\n",
       "      <td>31.0</td>\n",
       "      <td>530.0</td>\n",
       "      <td>512.0</td>\n",
       "      <td>100.0</td>\n",
       "    </tr>\n",
       "    <tr>\n",
       "      <th>29</th>\n",
       "      <td>New Hampshire</td>\n",
       "      <td>25.4</td>\n",
       "      <td>25.1</td>\n",
       "      <td>18.0</td>\n",
       "      <td>532.0</td>\n",
       "      <td>520.0</td>\n",
       "      <td>96.0</td>\n",
       "    </tr>\n",
       "    <tr>\n",
       "      <th>19</th>\n",
       "      <td>Maine</td>\n",
       "      <td>24.2</td>\n",
       "      <td>24.0</td>\n",
       "      <td>8.0</td>\n",
       "      <td>513.0</td>\n",
       "      <td>499.0</td>\n",
       "      <td>95.0</td>\n",
       "    </tr>\n",
       "    <tr>\n",
       "      <th>12</th>\n",
       "      <td>Idaho</td>\n",
       "      <td>21.9</td>\n",
       "      <td>21.8</td>\n",
       "      <td>38.0</td>\n",
       "      <td>513.0</td>\n",
       "      <td>493.0</td>\n",
       "      <td>93.0</td>\n",
       "    </tr>\n",
       "    <tr>\n",
       "      <th>9</th>\n",
       "      <td>Florida</td>\n",
       "      <td>19.0</td>\n",
       "      <td>19.4</td>\n",
       "      <td>73.0</td>\n",
       "      <td>520.0</td>\n",
       "      <td>497.0</td>\n",
       "      <td>83.0</td>\n",
       "    </tr>\n",
       "    <tr>\n",
       "      <th>21</th>\n",
       "      <td>Massachusetts</td>\n",
       "      <td>25.4</td>\n",
       "      <td>25.3</td>\n",
       "      <td>29.0</td>\n",
       "      <td>555.0</td>\n",
       "      <td>551.0</td>\n",
       "      <td>76.0</td>\n",
       "    </tr>\n",
       "    <tr>\n",
       "      <th>39</th>\n",
       "      <td>Rhode Island</td>\n",
       "      <td>24.0</td>\n",
       "      <td>23.3</td>\n",
       "      <td>21.0</td>\n",
       "      <td>539.0</td>\n",
       "      <td>524.0</td>\n",
       "      <td>71.0</td>\n",
       "    </tr>\n",
       "    <tr>\n",
       "      <th>30</th>\n",
       "      <td>New Jersey</td>\n",
       "      <td>23.8</td>\n",
       "      <td>23.8</td>\n",
       "      <td>34.0</td>\n",
       "      <td>530.0</td>\n",
       "      <td>526.0</td>\n",
       "      <td>70.0</td>\n",
       "    </tr>\n",
       "    <tr>\n",
       "      <th>20</th>\n",
       "      <td>Maryland</td>\n",
       "      <td>23.3</td>\n",
       "      <td>23.1</td>\n",
       "      <td>28.0</td>\n",
       "      <td>536.0</td>\n",
       "      <td>524.0</td>\n",
       "      <td>69.0</td>\n",
       "    </tr>\n",
       "    <tr>\n",
       "      <th>32</th>\n",
       "      <td>New York</td>\n",
       "      <td>23.8</td>\n",
       "      <td>24.0</td>\n",
       "      <td>31.0</td>\n",
       "      <td>528.0</td>\n",
       "      <td>523.0</td>\n",
       "      <td>67.0</td>\n",
       "    </tr>\n",
       "    <tr>\n",
       "      <th>38</th>\n",
       "      <td>Pennsylvania</td>\n",
       "      <td>23.4</td>\n",
       "      <td>23.4</td>\n",
       "      <td>23.0</td>\n",
       "      <td>540.0</td>\n",
       "      <td>531.0</td>\n",
       "      <td>65.0</td>\n",
       "    </tr>\n",
       "    <tr>\n",
       "      <th>46</th>\n",
       "      <td>Virginia</td>\n",
       "      <td>23.5</td>\n",
       "      <td>23.3</td>\n",
       "      <td>29.0</td>\n",
       "      <td>561.0</td>\n",
       "      <td>541.0</td>\n",
       "      <td>65.0</td>\n",
       "    </tr>\n",
       "    <tr>\n",
       "      <th>47</th>\n",
       "      <td>Washington</td>\n",
       "      <td>20.9</td>\n",
       "      <td>21.9</td>\n",
       "      <td>29.0</td>\n",
       "      <td>541.0</td>\n",
       "      <td>534.0</td>\n",
       "      <td>64.0</td>\n",
       "    </tr>\n",
       "    <tr>\n",
       "      <th>14</th>\n",
       "      <td>Indiana</td>\n",
       "      <td>22.0</td>\n",
       "      <td>22.4</td>\n",
       "      <td>35.0</td>\n",
       "      <td>542.0</td>\n",
       "      <td>532.0</td>\n",
       "      <td>63.0</td>\n",
       "    </tr>\n",
       "    <tr>\n",
       "      <th>43</th>\n",
       "      <td>Texas</td>\n",
       "      <td>19.5</td>\n",
       "      <td>20.7</td>\n",
       "      <td>45.0</td>\n",
       "      <td>513.0</td>\n",
       "      <td>507.0</td>\n",
       "      <td>62.0</td>\n",
       "    </tr>\n",
       "    <tr>\n",
       "      <th>10</th>\n",
       "      <td>Georgia</td>\n",
       "      <td>21.0</td>\n",
       "      <td>20.9</td>\n",
       "      <td>55.0</td>\n",
       "      <td>535.0</td>\n",
       "      <td>515.0</td>\n",
       "      <td>61.0</td>\n",
       "    </tr>\n",
       "    <tr>\n",
       "      <th>45</th>\n",
       "      <td>Vermont</td>\n",
       "      <td>23.3</td>\n",
       "      <td>23.1</td>\n",
       "      <td>29.0</td>\n",
       "      <td>562.0</td>\n",
       "      <td>551.0</td>\n",
       "      <td>60.0</td>\n",
       "    </tr>\n",
       "    <tr>\n",
       "      <th>11</th>\n",
       "      <td>Hawaii</td>\n",
       "      <td>17.8</td>\n",
       "      <td>19.2</td>\n",
       "      <td>90.0</td>\n",
       "      <td>544.0</td>\n",
       "      <td>541.0</td>\n",
       "      <td>55.0</td>\n",
       "    </tr>\n",
       "    <tr>\n",
       "      <th>4</th>\n",
       "      <td>California</td>\n",
       "      <td>22.5</td>\n",
       "      <td>22.7</td>\n",
       "      <td>31.0</td>\n",
       "      <td>531.0</td>\n",
       "      <td>524.0</td>\n",
       "      <td>53.0</td>\n",
       "    </tr>\n",
       "    <tr>\n",
       "      <th>40</th>\n",
       "      <td>South Carolina</td>\n",
       "      <td>17.5</td>\n",
       "      <td>18.6</td>\n",
       "      <td>100.0</td>\n",
       "      <td>543.0</td>\n",
       "      <td>521.0</td>\n",
       "      <td>50.0</td>\n",
       "    </tr>\n",
       "    <tr>\n",
       "      <th>33</th>\n",
       "      <td>North Carolina</td>\n",
       "      <td>17.8</td>\n",
       "      <td>19.3</td>\n",
       "      <td>100.0</td>\n",
       "      <td>546.0</td>\n",
       "      <td>535.0</td>\n",
       "      <td>49.0</td>\n",
       "    </tr>\n",
       "    <tr>\n",
       "      <th>37</th>\n",
       "      <td>Oregon</td>\n",
       "      <td>21.2</td>\n",
       "      <td>21.5</td>\n",
       "      <td>40.0</td>\n",
       "      <td>560.0</td>\n",
       "      <td>548.0</td>\n",
       "      <td>43.0</td>\n",
       "    </tr>\n",
       "    <tr>\n",
       "      <th>1</th>\n",
       "      <td>Alaska</td>\n",
       "      <td>18.7</td>\n",
       "      <td>19.8</td>\n",
       "      <td>65.0</td>\n",
       "      <td>547.0</td>\n",
       "      <td>533.0</td>\n",
       "      <td>38.0</td>\n",
       "    </tr>\n",
       "    <tr>\n",
       "      <th>2</th>\n",
       "      <td>Arizona</td>\n",
       "      <td>18.6</td>\n",
       "      <td>19.8</td>\n",
       "      <td>62.0</td>\n",
       "      <td>563.0</td>\n",
       "      <td>553.0</td>\n",
       "      <td>30.0</td>\n",
       "    </tr>\n",
       "    <tr>\n",
       "      <th>28</th>\n",
       "      <td>Nevada</td>\n",
       "      <td>16.3</td>\n",
       "      <td>18.0</td>\n",
       "      <td>100.0</td>\n",
       "      <td>563.0</td>\n",
       "      <td>553.0</td>\n",
       "      <td>26.0</td>\n",
       "    </tr>\n",
       "    <tr>\n",
       "      <th>48</th>\n",
       "      <td>West Virginia</td>\n",
       "      <td>20.0</td>\n",
       "      <td>19.4</td>\n",
       "      <td>69.0</td>\n",
       "      <td>558.0</td>\n",
       "      <td>528.0</td>\n",
       "      <td>14.0</td>\n",
       "    </tr>\n",
       "    <tr>\n",
       "      <th>35</th>\n",
       "      <td>Ohio</td>\n",
       "      <td>21.2</td>\n",
       "      <td>21.6</td>\n",
       "      <td>75.0</td>\n",
       "      <td>578.0</td>\n",
       "      <td>570.0</td>\n",
       "      <td>12.0</td>\n",
       "    </tr>\n",
       "    <tr>\n",
       "      <th>5</th>\n",
       "      <td>Colorado</td>\n",
       "      <td>20.1</td>\n",
       "      <td>20.3</td>\n",
       "      <td>100.0</td>\n",
       "      <td>606.0</td>\n",
       "      <td>595.0</td>\n",
       "      <td>11.0</td>\n",
       "    </tr>\n",
       "    <tr>\n",
       "      <th>31</th>\n",
       "      <td>New Mexico</td>\n",
       "      <td>18.6</td>\n",
       "      <td>19.4</td>\n",
       "      <td>66.0</td>\n",
       "      <td>577.0</td>\n",
       "      <td>561.0</td>\n",
       "      <td>11.0</td>\n",
       "    </tr>\n",
       "    <tr>\n",
       "      <th>26</th>\n",
       "      <td>Montana</td>\n",
       "      <td>19.0</td>\n",
       "      <td>20.2</td>\n",
       "      <td>100.0</td>\n",
       "      <td>605.0</td>\n",
       "      <td>591.0</td>\n",
       "      <td>10.0</td>\n",
       "    </tr>\n",
       "    <tr>\n",
       "      <th>13</th>\n",
       "      <td>Illinois</td>\n",
       "      <td>21.0</td>\n",
       "      <td>21.2</td>\n",
       "      <td>93.0</td>\n",
       "      <td>559.0</td>\n",
       "      <td>556.0</td>\n",
       "      <td>9.0</td>\n",
       "    </tr>\n",
       "    <tr>\n",
       "      <th>36</th>\n",
       "      <td>Oklahoma</td>\n",
       "      <td>18.5</td>\n",
       "      <td>18.8</td>\n",
       "      <td>100.0</td>\n",
       "      <td>530.0</td>\n",
       "      <td>517.0</td>\n",
       "      <td>7.0</td>\n",
       "    </tr>\n",
       "    <tr>\n",
       "      <th>42</th>\n",
       "      <td>Tennessee</td>\n",
       "      <td>19.5</td>\n",
       "      <td>19.2</td>\n",
       "      <td>100.0</td>\n",
       "      <td>623.0</td>\n",
       "      <td>604.0</td>\n",
       "      <td>5.0</td>\n",
       "    </tr>\n",
       "    <tr>\n",
       "      <th>0</th>\n",
       "      <td>Alabama</td>\n",
       "      <td>18.9</td>\n",
       "      <td>18.4</td>\n",
       "      <td>100.0</td>\n",
       "      <td>593.0</td>\n",
       "      <td>572.0</td>\n",
       "      <td>5.0</td>\n",
       "    </tr>\n",
       "    <tr>\n",
       "      <th>18</th>\n",
       "      <td>Louisiana</td>\n",
       "      <td>19.4</td>\n",
       "      <td>18.8</td>\n",
       "      <td>100.0</td>\n",
       "      <td>611.0</td>\n",
       "      <td>586.0</td>\n",
       "      <td>4.0</td>\n",
       "    </tr>\n",
       "    <tr>\n",
       "      <th>16</th>\n",
       "      <td>Kansas</td>\n",
       "      <td>21.1</td>\n",
       "      <td>21.3</td>\n",
       "      <td>73.0</td>\n",
       "      <td>632.0</td>\n",
       "      <td>628.0</td>\n",
       "      <td>4.0</td>\n",
       "    </tr>\n",
       "    <tr>\n",
       "      <th>17</th>\n",
       "      <td>Kentucky</td>\n",
       "      <td>19.6</td>\n",
       "      <td>19.4</td>\n",
       "      <td>100.0</td>\n",
       "      <td>631.0</td>\n",
       "      <td>616.0</td>\n",
       "      <td>4.0</td>\n",
       "    </tr>\n",
       "    <tr>\n",
       "      <th>49</th>\n",
       "      <td>Wisconsin</td>\n",
       "      <td>19.7</td>\n",
       "      <td>20.4</td>\n",
       "      <td>100.0</td>\n",
       "      <td>642.0</td>\n",
       "      <td>649.0</td>\n",
       "      <td>3.0</td>\n",
       "    </tr>\n",
       "    <tr>\n",
       "      <th>27</th>\n",
       "      <td>Nebraska</td>\n",
       "      <td>20.9</td>\n",
       "      <td>20.9</td>\n",
       "      <td>84.0</td>\n",
       "      <td>629.0</td>\n",
       "      <td>625.0</td>\n",
       "      <td>3.0</td>\n",
       "    </tr>\n",
       "    <tr>\n",
       "      <th>25</th>\n",
       "      <td>Missouri</td>\n",
       "      <td>19.8</td>\n",
       "      <td>19.9</td>\n",
       "      <td>100.0</td>\n",
       "      <td>640.0</td>\n",
       "      <td>631.0</td>\n",
       "      <td>3.0</td>\n",
       "    </tr>\n",
       "    <tr>\n",
       "      <th>50</th>\n",
       "      <td>Wyoming</td>\n",
       "      <td>19.4</td>\n",
       "      <td>19.8</td>\n",
       "      <td>100.0</td>\n",
       "      <td>626.0</td>\n",
       "      <td>604.0</td>\n",
       "      <td>3.0</td>\n",
       "    </tr>\n",
       "    <tr>\n",
       "      <th>44</th>\n",
       "      <td>Utah</td>\n",
       "      <td>19.5</td>\n",
       "      <td>19.9</td>\n",
       "      <td>100.0</td>\n",
       "      <td>624.0</td>\n",
       "      <td>614.0</td>\n",
       "      <td>3.0</td>\n",
       "    </tr>\n",
       "    <tr>\n",
       "      <th>3</th>\n",
       "      <td>Arkansas</td>\n",
       "      <td>18.9</td>\n",
       "      <td>19.0</td>\n",
       "      <td>100.0</td>\n",
       "      <td>614.0</td>\n",
       "      <td>594.0</td>\n",
       "      <td>3.0</td>\n",
       "    </tr>\n",
       "    <tr>\n",
       "      <th>41</th>\n",
       "      <td>South Dakota</td>\n",
       "      <td>20.7</td>\n",
       "      <td>21.5</td>\n",
       "      <td>80.0</td>\n",
       "      <td>612.0</td>\n",
       "      <td>603.0</td>\n",
       "      <td>3.0</td>\n",
       "    </tr>\n",
       "    <tr>\n",
       "      <th>23</th>\n",
       "      <td>Minnesota</td>\n",
       "      <td>20.4</td>\n",
       "      <td>21.5</td>\n",
       "      <td>100.0</td>\n",
       "      <td>644.0</td>\n",
       "      <td>651.0</td>\n",
       "      <td>3.0</td>\n",
       "    </tr>\n",
       "    <tr>\n",
       "      <th>24</th>\n",
       "      <td>Mississippi</td>\n",
       "      <td>18.2</td>\n",
       "      <td>18.1</td>\n",
       "      <td>100.0</td>\n",
       "      <td>634.0</td>\n",
       "      <td>607.0</td>\n",
       "      <td>2.0</td>\n",
       "    </tr>\n",
       "    <tr>\n",
       "      <th>34</th>\n",
       "      <td>North Dakota</td>\n",
       "      <td>19.0</td>\n",
       "      <td>20.4</td>\n",
       "      <td>98.0</td>\n",
       "      <td>635.0</td>\n",
       "      <td>621.0</td>\n",
       "      <td>2.0</td>\n",
       "    </tr>\n",
       "    <tr>\n",
       "      <th>15</th>\n",
       "      <td>Iowa</td>\n",
       "      <td>21.2</td>\n",
       "      <td>21.3</td>\n",
       "      <td>67.0</td>\n",
       "      <td>641.0</td>\n",
       "      <td>635.0</td>\n",
       "      <td>2.0</td>\n",
       "    </tr>\n",
       "  </tbody>\n",
       "</table>\n",
       "</div>"
      ],
      "text/plain": [
       "                   State  ACT_English  ACT_Math  ACT_Participate  SAT_English  \\\n",
       "8   District of Columbia         24.4      23.5             32.0        482.0   \n",
       "7               Delaware         24.1      23.4             18.0        503.0   \n",
       "22              Michigan         24.1      23.7             29.0        509.0   \n",
       "6            Connecticut         25.5      24.6             31.0        530.0   \n",
       "29         New Hampshire         25.4      25.1             18.0        532.0   \n",
       "19                 Maine         24.2      24.0              8.0        513.0   \n",
       "12                 Idaho         21.9      21.8             38.0        513.0   \n",
       "9                Florida         19.0      19.4             73.0        520.0   \n",
       "21         Massachusetts         25.4      25.3             29.0        555.0   \n",
       "39          Rhode Island         24.0      23.3             21.0        539.0   \n",
       "30            New Jersey         23.8      23.8             34.0        530.0   \n",
       "20              Maryland         23.3      23.1             28.0        536.0   \n",
       "32              New York         23.8      24.0             31.0        528.0   \n",
       "38          Pennsylvania         23.4      23.4             23.0        540.0   \n",
       "46              Virginia         23.5      23.3             29.0        561.0   \n",
       "47            Washington         20.9      21.9             29.0        541.0   \n",
       "14               Indiana         22.0      22.4             35.0        542.0   \n",
       "43                 Texas         19.5      20.7             45.0        513.0   \n",
       "10               Georgia         21.0      20.9             55.0        535.0   \n",
       "45               Vermont         23.3      23.1             29.0        562.0   \n",
       "11                Hawaii         17.8      19.2             90.0        544.0   \n",
       "4             California         22.5      22.7             31.0        531.0   \n",
       "40        South Carolina         17.5      18.6            100.0        543.0   \n",
       "33        North Carolina         17.8      19.3            100.0        546.0   \n",
       "37                Oregon         21.2      21.5             40.0        560.0   \n",
       "1                 Alaska         18.7      19.8             65.0        547.0   \n",
       "2                Arizona         18.6      19.8             62.0        563.0   \n",
       "28                Nevada         16.3      18.0            100.0        563.0   \n",
       "48         West Virginia         20.0      19.4             69.0        558.0   \n",
       "35                  Ohio         21.2      21.6             75.0        578.0   \n",
       "5               Colorado         20.1      20.3            100.0        606.0   \n",
       "31            New Mexico         18.6      19.4             66.0        577.0   \n",
       "26               Montana         19.0      20.2            100.0        605.0   \n",
       "13              Illinois         21.0      21.2             93.0        559.0   \n",
       "36              Oklahoma         18.5      18.8            100.0        530.0   \n",
       "42             Tennessee         19.5      19.2            100.0        623.0   \n",
       "0                Alabama         18.9      18.4            100.0        593.0   \n",
       "18             Louisiana         19.4      18.8            100.0        611.0   \n",
       "16                Kansas         21.1      21.3             73.0        632.0   \n",
       "17              Kentucky         19.6      19.4            100.0        631.0   \n",
       "49             Wisconsin         19.7      20.4            100.0        642.0   \n",
       "27              Nebraska         20.9      20.9             84.0        629.0   \n",
       "25              Missouri         19.8      19.9            100.0        640.0   \n",
       "50               Wyoming         19.4      19.8            100.0        626.0   \n",
       "44                  Utah         19.5      19.9            100.0        624.0   \n",
       "3               Arkansas         18.9      19.0            100.0        614.0   \n",
       "41          South Dakota         20.7      21.5             80.0        612.0   \n",
       "23             Minnesota         20.4      21.5            100.0        644.0   \n",
       "24           Mississippi         18.2      18.1            100.0        634.0   \n",
       "34          North Dakota         19.0      20.4             98.0        635.0   \n",
       "15                  Iowa         21.2      21.3             67.0        641.0   \n",
       "\n",
       "    SAT_Math  SAT_Participate  \n",
       "8      468.0            100.0  \n",
       "7      492.0            100.0  \n",
       "22     495.0            100.0  \n",
       "6      512.0            100.0  \n",
       "29     520.0             96.0  \n",
       "19     499.0             95.0  \n",
       "12     493.0             93.0  \n",
       "9      497.0             83.0  \n",
       "21     551.0             76.0  \n",
       "39     524.0             71.0  \n",
       "30     526.0             70.0  \n",
       "20     524.0             69.0  \n",
       "32     523.0             67.0  \n",
       "38     531.0             65.0  \n",
       "46     541.0             65.0  \n",
       "47     534.0             64.0  \n",
       "14     532.0             63.0  \n",
       "43     507.0             62.0  \n",
       "10     515.0             61.0  \n",
       "45     551.0             60.0  \n",
       "11     541.0             55.0  \n",
       "4      524.0             53.0  \n",
       "40     521.0             50.0  \n",
       "33     535.0             49.0  \n",
       "37     548.0             43.0  \n",
       "1      533.0             38.0  \n",
       "2      553.0             30.0  \n",
       "28     553.0             26.0  \n",
       "48     528.0             14.0  \n",
       "35     570.0             12.0  \n",
       "5      595.0             11.0  \n",
       "31     561.0             11.0  \n",
       "26     591.0             10.0  \n",
       "13     556.0              9.0  \n",
       "36     517.0              7.0  \n",
       "42     604.0              5.0  \n",
       "0      572.0              5.0  \n",
       "18     586.0              4.0  \n",
       "16     628.0              4.0  \n",
       "17     616.0              4.0  \n",
       "49     649.0              3.0  \n",
       "27     625.0              3.0  \n",
       "25     631.0              3.0  \n",
       "50     604.0              3.0  \n",
       "44     614.0              3.0  \n",
       "3      594.0              3.0  \n",
       "41     603.0              3.0  \n",
       "23     651.0              3.0  \n",
       "24     607.0              2.0  \n",
       "34     621.0              2.0  \n",
       "15     635.0              2.0  "
      ]
     },
     "execution_count": 85,
     "metadata": {},
     "output_type": "execute_result"
    }
   ],
   "source": [
    "# Let's take a look at who those outliers are (check the carolinas!)\n",
    "df_both.sort_values(['SAT_Participate'], ascending = False)"
   ]
  },
  {
   "cell_type": "code",
   "execution_count": null,
   "metadata": {
    "collapsed": true
   },
   "outputs": [],
   "source": []
  }
 ],
 "metadata": {
  "anaconda-cloud": {},
  "kernelspec": {
   "display_name": "Python 3",
   "language": "python",
   "name": "python3"
  },
  "language_info": {
   "codemirror_mode": {
    "name": "ipython",
    "version": 3
   },
   "file_extension": ".py",
   "mimetype": "text/x-python",
   "name": "python",
   "nbconvert_exporter": "python",
   "pygments_lexer": "ipython3",
   "version": "3.6.3"
  }
 },
 "nbformat": 4,
 "nbformat_minor": 1
}
